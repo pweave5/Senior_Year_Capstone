{
  "nbformat": 4,
  "nbformat_minor": 0,
  "metadata": {
    "colab": {
      "provenance": [],
      "collapsed_sections": [
        "1UHwuXLwfD-4",
        "QxcLmKYEU860",
        "xnmwNnrMY9CN",
        "TB1RFwx-5xIN"
      ],
      "toc_visible": true
    },
    "kernelspec": {
      "name": "ir",
      "display_name": "R"
    },
    "language_info": {
      "name": "R"
    }
  },
  "cells": [
    {
      "cell_type": "markdown",
      "source": [
        "# Capstone Project: NBA Playoff Predictive Analysis\n",
        "Author: Preston Weaver\n",
        "\n",
        "This notebook explores the relationship between NBA regular season performance and playoff success. By leveraging team regular season statistics, we build predictive models to estimate the number of playoff wins a team is likely to achieve. The workflow includes data preprocessing, feature selection, model building, and performance evaluation.\n",
        "\n",
        "We experiment with multiple modeling approaches to compare their effectiveness in capturing the patterns that lead to postseason success. The ultimate goal is to identify key regular season indicators of playoff performance and develop models that generalize well to unseen data. A target RMSE of less than 4 was chosen, reflecting the fact that it takes 4 wins to win a playoff series, making this a meaningful benchmark for predictive accuracy."
      ],
      "metadata": {
        "id": "9tlRKQAUR25G"
      }
    },
    {
      "cell_type": "markdown",
      "source": [
        "## Setup"
      ],
      "metadata": {
        "id": "zq2QS3nWmcpL"
      }
    },
    {
      "cell_type": "code",
      "source": [],
      "metadata": {
        "id": "uPYcIRmTcJWo"
      },
      "execution_count": null,
      "outputs": []
    },
    {
      "cell_type": "code",
      "execution_count": null,
      "metadata": {
        "id": "uy10STzkl6_O"
      },
      "outputs": [],
      "source": [
        "install.packages(\"tidyverse\")\n",
        "install.packages('sjstats')"
      ]
    },
    {
      "cell_type": "code",
      "source": [
        "library(tidyverse)\n",
        "library(sjstats)"
      ],
      "metadata": {
        "id": "PDNj6PAFmHYC"
      },
      "execution_count": null,
      "outputs": []
    },
    {
      "cell_type": "code",
      "source": [
        "nba <- read.csv('Regular_Season_Stats.csv')"
      ],
      "metadata": {
        "id": "aYIYXVQwmTBA"
      },
      "execution_count": null,
      "outputs": []
    },
    {
      "cell_type": "markdown",
      "source": [
        "## Data Transformation"
      ],
      "metadata": {
        "id": "ZcvfVjn9mfB4"
      }
    },
    {
      "cell_type": "markdown",
      "source": [
        "As many avid NBA fans know, the game of basketball has changed quite a bit in the past twenty-five years. This is evident in various statistics, but for illustration, consider points per game (PPG). In the 2000 season, the league average for PPG was 97.5, with the highest-scoring team averaging 105 PPG. By the 2024 season, the league average had risen to 114 PPG, and even the lowest-scoring team averaged 105.8 PPG. In other words, the worst-scoring team in 2024 would have been the best-scoring team in 2000. Given this shift, an adjustment was needed to account for the changes in the statistical landscape of the NBA.\n",
        "\n",
        "To account for these changes, a Z-score transformation was applied to the data. Each statistic was standardized within its season by subtracting the season’s mean and dividing by the season’s standard deviation. This process ensured that all statistics are contextualized relative to their respective season, allowing for more meaningful comparisons across years.\n"
      ],
      "metadata": {
        "id": "KJ9QKzwycSuh"
      }
    },
    {
      "cell_type": "code",
      "source": [
        "nba |>\n",
        "  group_by(Season) |>\n",
        "  summarise(\n",
        "    PPG = mean(PTS),\n",
        "    Min = min(PTS),\n",
        "    Max = max(PTS)\n",
        "  )"
      ],
      "metadata": {
        "colab": {
          "base_uri": "https://localhost:8080/",
          "height": 882
        },
        "id": "-quIBglYI87y",
        "outputId": "3c94788f-f090-4738-a30a-a43203489318"
      },
      "execution_count": null,
      "outputs": [
        {
          "output_type": "display_data",
          "data": {
            "text/html": [
              "<table class=\"dataframe\">\n",
              "<caption>A tibble: 25 × 4</caption>\n",
              "<thead>\n",
              "\t<tr><th scope=col>Season</th><th scope=col>PPG</th><th scope=col>Min</th><th scope=col>Max</th></tr>\n",
              "\t<tr><th scope=col>&lt;int&gt;</th><th scope=col>&lt;dbl&gt;</th><th scope=col>&lt;dbl&gt;</th><th scope=col>&lt;dbl&gt;</th></tr>\n",
              "</thead>\n",
              "<tbody>\n",
              "\t<tr><td>2000</td><td> 97.47586</td><td> 84.8</td><td>105.0</td></tr>\n",
              "\t<tr><td>2001</td><td> 94.81034</td><td> 87.6</td><td>101.7</td></tr>\n",
              "\t<tr><td>2002</td><td> 95.47241</td><td> 87.2</td><td>105.2</td></tr>\n",
              "\t<tr><td>2003</td><td> 95.08966</td><td> 84.2</td><td>103.0</td></tr>\n",
              "\t<tr><td>2004</td><td> 93.39655</td><td> 85.4</td><td>105.2</td></tr>\n",
              "\t<tr><td>2005</td><td> 97.19000</td><td> 88.4</td><td>110.4</td></tr>\n",
              "\t<tr><td>2006</td><td> 97.01333</td><td> 88.8</td><td>108.4</td></tr>\n",
              "\t<tr><td>2007</td><td> 98.74000</td><td> 93.7</td><td>110.2</td></tr>\n",
              "\t<tr><td>2008</td><td> 99.92333</td><td> 91.4</td><td>111.0</td></tr>\n",
              "\t<tr><td>2009</td><td> 99.94333</td><td> 93.6</td><td>109.4</td></tr>\n",
              "\t<tr><td>2010</td><td>100.45000</td><td> 92.4</td><td>110.2</td></tr>\n",
              "\t<tr><td>2011</td><td> 99.55333</td><td> 91.9</td><td>107.5</td></tr>\n",
              "\t<tr><td>2012</td><td> 96.26000</td><td> 87.0</td><td>104.1</td></tr>\n",
              "\t<tr><td>2013</td><td> 98.13667</td><td> 93.2</td><td>106.1</td></tr>\n",
              "\t<tr><td>2014</td><td>101.01000</td><td> 93.7</td><td>107.9</td></tr>\n",
              "\t<tr><td>2015</td><td>100.01667</td><td> 91.9</td><td>110.0</td></tr>\n",
              "\t<tr><td>2016</td><td>102.66333</td><td> 97.3</td><td>114.9</td></tr>\n",
              "\t<tr><td>2017</td><td>105.59000</td><td> 97.9</td><td>115.9</td></tr>\n",
              "\t<tr><td>2018</td><td>106.33667</td><td> 98.8</td><td>113.5</td></tr>\n",
              "\t<tr><td>2019</td><td>111.20333</td><td>103.5</td><td>118.1</td></tr>\n",
              "\t<tr><td>2020</td><td>111.68333</td><td>102.9</td><td>118.7</td></tr>\n",
              "\t<tr><td>2021</td><td>112.08667</td><td>103.8</td><td>120.1</td></tr>\n",
              "\t<tr><td>2022</td><td>110.60667</td><td>103.7</td><td>115.9</td></tr>\n",
              "\t<tr><td>2023</td><td>114.68667</td><td>109.5</td><td>120.7</td></tr>\n",
              "\t<tr><td>2024</td><td>114.22000</td><td>105.8</td><td>123.3</td></tr>\n",
              "</tbody>\n",
              "</table>\n"
            ],
            "text/markdown": "\nA tibble: 25 × 4\n\n| Season &lt;int&gt; | PPG &lt;dbl&gt; | Min &lt;dbl&gt; | Max &lt;dbl&gt; |\n|---|---|---|---|\n| 2000 |  97.47586 |  84.8 | 105.0 |\n| 2001 |  94.81034 |  87.6 | 101.7 |\n| 2002 |  95.47241 |  87.2 | 105.2 |\n| 2003 |  95.08966 |  84.2 | 103.0 |\n| 2004 |  93.39655 |  85.4 | 105.2 |\n| 2005 |  97.19000 |  88.4 | 110.4 |\n| 2006 |  97.01333 |  88.8 | 108.4 |\n| 2007 |  98.74000 |  93.7 | 110.2 |\n| 2008 |  99.92333 |  91.4 | 111.0 |\n| 2009 |  99.94333 |  93.6 | 109.4 |\n| 2010 | 100.45000 |  92.4 | 110.2 |\n| 2011 |  99.55333 |  91.9 | 107.5 |\n| 2012 |  96.26000 |  87.0 | 104.1 |\n| 2013 |  98.13667 |  93.2 | 106.1 |\n| 2014 | 101.01000 |  93.7 | 107.9 |\n| 2015 | 100.01667 |  91.9 | 110.0 |\n| 2016 | 102.66333 |  97.3 | 114.9 |\n| 2017 | 105.59000 |  97.9 | 115.9 |\n| 2018 | 106.33667 |  98.8 | 113.5 |\n| 2019 | 111.20333 | 103.5 | 118.1 |\n| 2020 | 111.68333 | 102.9 | 118.7 |\n| 2021 | 112.08667 | 103.8 | 120.1 |\n| 2022 | 110.60667 | 103.7 | 115.9 |\n| 2023 | 114.68667 | 109.5 | 120.7 |\n| 2024 | 114.22000 | 105.8 | 123.3 |\n\n",
            "text/latex": "A tibble: 25 × 4\n\\begin{tabular}{llll}\n Season & PPG & Min & Max\\\\\n <int> & <dbl> & <dbl> & <dbl>\\\\\n\\hline\n\t 2000 &  97.47586 &  84.8 & 105.0\\\\\n\t 2001 &  94.81034 &  87.6 & 101.7\\\\\n\t 2002 &  95.47241 &  87.2 & 105.2\\\\\n\t 2003 &  95.08966 &  84.2 & 103.0\\\\\n\t 2004 &  93.39655 &  85.4 & 105.2\\\\\n\t 2005 &  97.19000 &  88.4 & 110.4\\\\\n\t 2006 &  97.01333 &  88.8 & 108.4\\\\\n\t 2007 &  98.74000 &  93.7 & 110.2\\\\\n\t 2008 &  99.92333 &  91.4 & 111.0\\\\\n\t 2009 &  99.94333 &  93.6 & 109.4\\\\\n\t 2010 & 100.45000 &  92.4 & 110.2\\\\\n\t 2011 &  99.55333 &  91.9 & 107.5\\\\\n\t 2012 &  96.26000 &  87.0 & 104.1\\\\\n\t 2013 &  98.13667 &  93.2 & 106.1\\\\\n\t 2014 & 101.01000 &  93.7 & 107.9\\\\\n\t 2015 & 100.01667 &  91.9 & 110.0\\\\\n\t 2016 & 102.66333 &  97.3 & 114.9\\\\\n\t 2017 & 105.59000 &  97.9 & 115.9\\\\\n\t 2018 & 106.33667 &  98.8 & 113.5\\\\\n\t 2019 & 111.20333 & 103.5 & 118.1\\\\\n\t 2020 & 111.68333 & 102.9 & 118.7\\\\\n\t 2021 & 112.08667 & 103.8 & 120.1\\\\\n\t 2022 & 110.60667 & 103.7 & 115.9\\\\\n\t 2023 & 114.68667 & 109.5 & 120.7\\\\\n\t 2024 & 114.22000 & 105.8 & 123.3\\\\\n\\end{tabular}\n",
            "text/plain": [
              "   Season PPG       Min   Max  \n",
              "1  2000    97.47586  84.8 105.0\n",
              "2  2001    94.81034  87.6 101.7\n",
              "3  2002    95.47241  87.2 105.2\n",
              "4  2003    95.08966  84.2 103.0\n",
              "5  2004    93.39655  85.4 105.2\n",
              "6  2005    97.19000  88.4 110.4\n",
              "7  2006    97.01333  88.8 108.4\n",
              "8  2007    98.74000  93.7 110.2\n",
              "9  2008    99.92333  91.4 111.0\n",
              "10 2009    99.94333  93.6 109.4\n",
              "11 2010   100.45000  92.4 110.2\n",
              "12 2011    99.55333  91.9 107.5\n",
              "13 2012    96.26000  87.0 104.1\n",
              "14 2013    98.13667  93.2 106.1\n",
              "15 2014   101.01000  93.7 107.9\n",
              "16 2015   100.01667  91.9 110.0\n",
              "17 2016   102.66333  97.3 114.9\n",
              "18 2017   105.59000  97.9 115.9\n",
              "19 2018   106.33667  98.8 113.5\n",
              "20 2019   111.20333 103.5 118.1\n",
              "21 2020   111.68333 102.9 118.7\n",
              "22 2021   112.08667 103.8 120.1\n",
              "23 2022   110.60667 103.7 115.9\n",
              "24 2023   114.68667 109.5 120.7\n",
              "25 2024   114.22000 105.8 123.3"
            ]
          },
          "metadata": {}
        }
      ]
    },
    {
      "cell_type": "code",
      "source": [
        "# Adding Standardized values to the Dataframe\n",
        "Scaled_Values <- nba |>\n",
        "  group_by(Season) |>\n",
        "  # Create new fields of scaled values\n",
        "  mutate(\n",
        "    across(c(FG, FGA, FG_percent, X3P, X3P_percent, X2P, X2PA, X2P_percent,\n",
        "             FT, FTA, FT_percent, ORB, DRB, TRB, AST, STL, BLK, TOV, PF,\n",
        "             PTS, Assist_TO, Opp_FG, Opp_FGA, Opp_FG_percent, Opp_3P, Opp_3PA,\n",
        "             Opp_3P_percent, Opp_2P, Opp_2PA, Opp_2P_percent, Opp_FT, Opp_FTA,\n",
        "             Opp_FT_percent, Off_Reb_Allowed, Opp_DRB, Opp_Total_Reb, Opp_AST,\n",
        "             Opp_STL, TO_Forced, Points_Allowed, Age, MOV, SOS, SRS, ORtg, DRtg,\n",
        "             NRtg, Pace, FTr, X3PAr, TS_percent, eFG_percent, ORB_percent,\n",
        "             FT_FGA, Def_eFG_percent, Def_TOV_percent, DRB_percent, Def_FT_FGA,\n",
        "             Seed),\n",
        "             scale,  # Use the scale function to preform a z score standardization\n",
        "             .names = \"scaled_{col}\")  # Change name to start with 'scaled'\n",
        "  ) |>\n",
        "  ungroup()\n"
      ],
      "metadata": {
        "id": "laavAPM97Rui"
      },
      "execution_count": null,
      "outputs": []
    },
    {
      "cell_type": "code",
      "source": [
        "# House keeping\n",
        "Scaled_Values_Playoff <- Scaled_Values |>\n",
        "  filter(Playoff == 1 & Season != 2024)  # Only want to include teams that made the playoffs\n",
        "                                         # Saving 2024 as a test year"
      ],
      "metadata": {
        "id": "-mOrGPHgIHAV"
      },
      "execution_count": null,
      "outputs": []
    },
    {
      "cell_type": "code",
      "source": [
        "nrow(Scaled_Values_Playoff)"
      ],
      "metadata": {
        "colab": {
          "base_uri": "https://localhost:8080/",
          "height": 34
        },
        "id": "vIW-dxcrhDzO",
        "outputId": "14579cf5-b9e9-4b29-dfe7-7e918b350d18"
      },
      "execution_count": null,
      "outputs": [
        {
          "output_type": "display_data",
          "data": {
            "text/html": [
              "384"
            ],
            "text/markdown": "384",
            "text/latex": "384",
            "text/plain": [
              "[1] 384"
            ]
          },
          "metadata": {}
        }
      ]
    },
    {
      "cell_type": "markdown",
      "source": [
        "The following teams underpreformed in large part due to injuries that occured in the playoffs. Seeing that the post season performance wasn't a very accurate reflection of the regular season performance, they were removed from the dataset."
      ],
      "metadata": {
        "id": "w323IFWZcvUz"
      }
    },
    {
      "cell_type": "code",
      "source": [
        "# Remove Outliers\n",
        "Scaled_Values_Playoff <- Scaled_Values_Playoff |>\n",
        "  filter(!(Team == 'Miami Heat' & Season == 2023) &\n",
        "            !(Team == 'Milwaukee Bucks' & Season == 2023) &\n",
        "            !(Team == 'Chicago Bulls' & Season == 2012) &\n",
        "            !(Team == 'Philadelphia 76ers' & Season == 2012) &\n",
        "            !(Team == 'Oklahoma City Thunder' & Season == 2013) &\n",
        "            !(Team == 'Memphis Grizzlies' & Season == 2013))\n",
        "\n",
        "\n"
      ],
      "metadata": {
        "id": "e6PbnhmfgJBi"
      },
      "execution_count": null,
      "outputs": []
    },
    {
      "cell_type": "code",
      "source": [
        "nrow(Scaled_Values_Playoff)"
      ],
      "metadata": {
        "colab": {
          "base_uri": "https://localhost:8080/",
          "height": 34
        },
        "id": "rW7CXW09hG_0",
        "outputId": "ba1c97c0-018a-4c2f-ad40-74d30e104332"
      },
      "execution_count": null,
      "outputs": [
        {
          "output_type": "display_data",
          "data": {
            "text/html": [
              "378"
            ],
            "text/markdown": "378",
            "text/latex": "378",
            "text/plain": [
              "[1] 378"
            ]
          },
          "metadata": {}
        }
      ]
    },
    {
      "cell_type": "code",
      "source": [
        "# Splitting the data set\n",
        "set.seed(2016)\n",
        "split_index <- sample(nrow(Scaled_Values_Playoff), nrow(Scaled_Values_Playoff) * .8)\n",
        "train <- Scaled_Values_Playoff[split_index,]\n",
        "test <- Scaled_Values_Playoff[-split_index,]"
      ],
      "metadata": {
        "id": "nroKZQvDfKuW"
      },
      "execution_count": null,
      "outputs": []
    },
    {
      "cell_type": "markdown",
      "source": [
        "## MLR"
      ],
      "metadata": {
        "id": "-nkzkXmiHwCV"
      }
    },
    {
      "cell_type": "markdown",
      "source": [
        "### Model 1"
      ],
      "metadata": {
        "id": "ZVZCR9p-Pyn_"
      }
    },
    {
      "cell_type": "code",
      "source": [
        "model1 <- lm(Wins ~ scaled_FG + scaled_FGA + scaled_FG_percent + scaled_X3P +\n",
        "             scaled_X3P_percent + scaled_X2P + scaled_X2PA + scaled_X2P_percent + scaled_FT +\n",
        "             scaled_FTA + scaled_FT_percent + scaled_ORB + scaled_DRB + scaled_TRB + scaled_AST +\n",
        "             scaled_STL + scaled_BLK + scaled_TOV + scaled_PF + scaled_PTS + scaled_Assist_TO + scaled_Opp_FG +\n",
        "             scaled_Opp_FGA + scaled_Opp_FG_percent + scaled_Opp_3P + scaled_Opp_3PA + scaled_Opp_3P_percent +\n",
        "             scaled_Opp_2P + scaled_Opp_2PA + scaled_Opp_2P_percent + scaled_Opp_FT + scaled_Opp_FTA +\n",
        "             scaled_Opp_FT_percent + scaled_Off_Reb_Allowed + scaled_Opp_DRB + scaled_Opp_Total_Reb +\n",
        "             scaled_Opp_AST + scaled_Opp_STL + scaled_TO_Forced + scaled_Points_Allowed + scaled_Age +\n",
        "             scaled_MOV + scaled_SOS + scaled_SRS + scaled_ORtg + scaled_DRtg + scaled_NRtg + scaled_Pace +\n",
        "             scaled_FTr + scaled_X3PAr + scaled_TS_percent + scaled_eFG_percent + scaled_ORB_percent +\n",
        "             scaled_FT_FGA + scaled_Def_eFG_percent + scaled_Def_TOV_percent + scaled_DRB_percent + scaled_Def_FT_FGA +\n",
        "             win_percentage + Top10_Scorer + Top10_Rebounder + scaled_Seed,\n",
        "            data = train)"
      ],
      "metadata": {
        "id": "xUNMF_HfH7Pl"
      },
      "execution_count": null,
      "outputs": []
    },
    {
      "cell_type": "code",
      "source": [
        "summary(model1)"
      ],
      "metadata": {
        "colab": {
          "base_uri": "https://localhost:8080/",
          "height": 1000
        },
        "id": "2tSLx38GLzJX",
        "outputId": "9dd6aa7b-273e-47ae-86e3-3aa06dea370a"
      },
      "execution_count": null,
      "outputs": [
        {
          "output_type": "display_data",
          "data": {
            "text/plain": [
              "\n",
              "Call:\n",
              "lm(formula = Wins ~ scaled_FG + scaled_FGA + scaled_FG_percent + \n",
              "    scaled_X3P + scaled_X3P_percent + scaled_X2P + scaled_X2PA + \n",
              "    scaled_X2P_percent + scaled_FT + scaled_FTA + scaled_FT_percent + \n",
              "    scaled_ORB + scaled_DRB + scaled_TRB + scaled_AST + scaled_STL + \n",
              "    scaled_BLK + scaled_TOV + scaled_PF + scaled_PTS + scaled_Assist_TO + \n",
              "    scaled_Opp_FG + scaled_Opp_FGA + scaled_Opp_FG_percent + \n",
              "    scaled_Opp_3P + scaled_Opp_3PA + scaled_Opp_3P_percent + \n",
              "    scaled_Opp_2P + scaled_Opp_2PA + scaled_Opp_2P_percent + \n",
              "    scaled_Opp_FT + scaled_Opp_FTA + scaled_Opp_FT_percent + \n",
              "    scaled_Off_Reb_Allowed + scaled_Opp_DRB + scaled_Opp_Total_Reb + \n",
              "    scaled_Opp_AST + scaled_Opp_STL + scaled_TO_Forced + scaled_Points_Allowed + \n",
              "    scaled_Age + scaled_MOV + scaled_SOS + scaled_SRS + scaled_ORtg + \n",
              "    scaled_DRtg + scaled_NRtg + scaled_Pace + scaled_FTr + scaled_X3PAr + \n",
              "    scaled_TS_percent + scaled_eFG_percent + scaled_ORB_percent + \n",
              "    scaled_FT_FGA + scaled_Def_eFG_percent + scaled_Def_TOV_percent + \n",
              "    scaled_DRB_percent + scaled_Def_FT_FGA + win_percentage + \n",
              "    Top10_Scorer + Top10_Rebounder + scaled_Seed, data = train)\n",
              "\n",
              "Residuals:\n",
              "    Min      1Q  Median      3Q     Max \n",
              "-8.8365 -1.9426 -0.3318  1.8737  8.9444 \n",
              "\n",
              "Coefficients:\n",
              "                        Estimate Std. Error t value Pr(>|t|)    \n",
              "(Intercept)             1.550328   4.638080   0.334   0.7385    \n",
              "scaled_FG               0.137875   2.638398   0.052   0.9584    \n",
              "scaled_FGA             -3.133703   1.352184  -2.318   0.0213 *  \n",
              "scaled_FG_percent      -1.288963   2.453982  -0.525   0.5999    \n",
              "scaled_X3P              7.788313   2.606117   2.988   0.0031 ** \n",
              "scaled_X3P_percent     -1.667156   0.868546  -1.919   0.0561 .  \n",
              "scaled_X2P              1.946241   1.984405   0.981   0.3277    \n",
              "scaled_X2PA             0.232172   2.364011   0.098   0.9218    \n",
              "scaled_X2P_percent     -0.124195   1.473682  -0.084   0.9329    \n",
              "scaled_FT              -4.341509   4.591679  -0.946   0.3454    \n",
              "scaled_FTA              4.242228   4.655764   0.911   0.3631    \n",
              "scaled_FT_percent      -0.661430   1.035169  -0.639   0.5235    \n",
              "scaled_ORB              2.362285   2.096603   1.127   0.2610    \n",
              "scaled_DRB              0.341668   1.508224   0.227   0.8210    \n",
              "scaled_TRB              0.432597   1.399039   0.309   0.7574    \n",
              "scaled_AST              0.157033   1.079849   0.145   0.8845    \n",
              "scaled_STL              0.614622   0.458161   1.341   0.1810    \n",
              "scaled_BLK             -0.160111   0.300284  -0.533   0.5944    \n",
              "scaled_TOV              0.561541   1.311366   0.428   0.6689    \n",
              "scaled_PF              -0.675686   0.645789  -1.046   0.2965    \n",
              "scaled_PTS             -0.649288   2.876408  -0.226   0.8216    \n",
              "scaled_Assist_TO        0.286946   1.468522   0.195   0.8452    \n",
              "scaled_Opp_FG           7.498240   3.646522   2.056   0.0408 *  \n",
              "scaled_Opp_FGA         -3.904828   2.021389  -1.932   0.0546 .  \n",
              "scaled_Opp_FG_percent   3.816215   2.905179   1.314   0.1902    \n",
              "scaled_Opp_3P          -2.868069   2.054607  -1.396   0.1640    \n",
              "scaled_Opp_3PA          2.887117   1.942189   1.487   0.1385    \n",
              "scaled_Opp_3P_percent  -0.380231   0.967260  -0.393   0.6946    \n",
              "scaled_Opp_2P          -5.810978   2.548477  -2.280   0.0235 *  \n",
              "scaled_Opp_2PA          1.837078   1.826341   1.006   0.3155    \n",
              "scaled_Opp_2P_percent  -1.051083   1.813617  -0.580   0.5628    \n",
              "scaled_Opp_FT           7.336397   5.367482   1.367   0.1730    \n",
              "scaled_Opp_FTA         -2.500797   4.681264  -0.534   0.5937    \n",
              "scaled_Opp_FT_percent  -0.117646   0.814673  -0.144   0.8853    \n",
              "scaled_Off_Reb_Allowed -2.239246   1.879920  -1.191   0.2348    \n",
              "scaled_Opp_DRB         -3.536429   2.363326  -1.496   0.1359    \n",
              "scaled_Opp_Total_Reb    4.125484   2.791295   1.478   0.1407    \n",
              "scaled_Opp_AST         -0.720196   0.431538  -1.669   0.0964 .  \n",
              "scaled_Opp_STL          0.006534   0.490549   0.013   0.9894    \n",
              "scaled_TO_Forced        2.542743   2.274966   1.118   0.2648    \n",
              "scaled_Points_Allowed  -0.439032   3.078307  -0.143   0.8867    \n",
              "scaled_Age              0.026460   0.272550   0.097   0.9227    \n",
              "scaled_MOV              0.056298  15.094028   0.004   0.9970    \n",
              "scaled_SOS              0.318199   0.631810   0.504   0.6150    \n",
              "scaled_SRS             -6.844810   7.174218  -0.954   0.3410    \n",
              "scaled_ORtg            -1.553754   2.408450  -0.645   0.5195    \n",
              "scaled_DRtg             1.800958   2.609027   0.690   0.4907    \n",
              "scaled_NRtg            10.215554  12.777768   0.799   0.4248    \n",
              "scaled_Pace            -0.734817   1.101015  -0.667   0.5052    \n",
              "scaled_FTr             -4.263218   5.087497  -0.838   0.4029    \n",
              "scaled_X3PAr           -5.577588   2.674462  -2.085   0.0381 *  \n",
              "scaled_TS_percent       6.156560   3.866116   1.592   0.1126    \n",
              "scaled_eFG_percent     -4.875236   3.989066  -1.222   0.2229    \n",
              "scaled_ORB_percent     -2.215778   1.889901  -1.172   0.2422    \n",
              "scaled_FT_FGA           3.047588   5.211573   0.585   0.5593    \n",
              "scaled_Def_eFG_percent -2.996099   3.438142  -0.871   0.3844    \n",
              "scaled_Def_TOV_percent -2.861305   2.452501  -1.167   0.2445    \n",
              "scaled_DRB_percent     -0.042175   1.640760  -0.026   0.9795    \n",
              "scaled_Def_FT_FGA      -4.252194   2.875560  -1.479   0.1405    \n",
              "win_percentage          4.515382   8.436951   0.535   0.5930    \n",
              "Top10_Scorer            0.703967   0.406204   1.733   0.0844 .  \n",
              "Top10_Rebounder        -0.024314   0.448569  -0.054   0.9568    \n",
              "scaled_Seed            -2.711015   0.436549  -6.210 2.33e-09 ***\n",
              "---\n",
              "Signif. codes:  0 ‘***’ 0.001 ‘**’ 0.01 ‘*’ 0.05 ‘.’ 0.1 ‘ ’ 1\n",
              "\n",
              "Residual standard error: 3.215 on 239 degrees of freedom\n",
              "Multiple R-squared:  0.6374,\tAdjusted R-squared:  0.5433 \n",
              "F-statistic: 6.775 on 62 and 239 DF,  p-value: < 2.2e-16\n"
            ]
          },
          "metadata": {}
        }
      ]
    },
    {
      "cell_type": "code",
      "source": [
        "rmse(model1)"
      ],
      "metadata": {
        "colab": {
          "base_uri": "https://localhost:8080/",
          "height": 34
        },
        "id": "nbAm4duON8j_",
        "outputId": "dac8ed95-6a6e-4a84-a550-4e9b7c053962"
      },
      "execution_count": null,
      "outputs": [
        {
          "output_type": "display_data",
          "data": {
            "text/html": [
              "2.86038201621131"
            ],
            "text/markdown": "2.86038201621131",
            "text/latex": "2.86038201621131",
            "text/plain": [
              "[1] 2.860382"
            ]
          },
          "metadata": {}
        }
      ]
    },
    {
      "cell_type": "markdown",
      "source": [
        "### Model 2"
      ],
      "metadata": {
        "id": "WNI8dG8QP2RX"
      }
    },
    {
      "cell_type": "code",
      "source": [
        "model2 <- lm(Wins ~ scaled_X2P + scaled_FTA + scaled_Opp_FG + scaled_Opp_FGA +\n",
        "             scaled_Opp_2P + scaled_TO_Forced + scaled_FTr + scaled_TS_percent +\n",
        "             scaled_Def_TOV_percent + scaled_DRB_percent + Top10_Scorer + scaled_Seed,\n",
        "            data = train)"
      ],
      "metadata": {
        "id": "vjMD8utlOBn2"
      },
      "execution_count": null,
      "outputs": []
    },
    {
      "cell_type": "code",
      "source": [
        "summary(model2)"
      ],
      "metadata": {
        "colab": {
          "base_uri": "https://localhost:8080/",
          "height": 599
        },
        "id": "2IyvldbvPAno",
        "outputId": "936ffc7c-1e44-4c9a-99cf-c94503d98cab"
      },
      "execution_count": null,
      "outputs": [
        {
          "output_type": "display_data",
          "data": {
            "text/plain": [
              "\n",
              "Call:\n",
              "lm(formula = Wins ~ scaled_X2P + scaled_FTA + scaled_Opp_FG + \n",
              "    scaled_Opp_FGA + scaled_Opp_2P + scaled_TO_Forced + scaled_FTr + \n",
              "    scaled_TS_percent + scaled_Def_TOV_percent + scaled_DRB_percent + \n",
              "    Top10_Scorer + scaled_Seed, data = train)\n",
              "\n",
              "Residuals:\n",
              "    Min      1Q  Median      3Q     Max \n",
              "-8.3301 -1.9655 -0.3072  1.8846  9.2183 \n",
              "\n",
              "Coefficients:\n",
              "                       Estimate Std. Error t value Pr(>|t|)    \n",
              "(Intercept)             4.33335    0.39297  11.027   <2e-16 ***\n",
              "scaled_X2P              0.20279    0.20428   0.993   0.3217    \n",
              "scaled_FTA             -0.62492    1.13425  -0.551   0.5821    \n",
              "scaled_Opp_FG          -0.42846    0.64975  -0.659   0.5101    \n",
              "scaled_Opp_FGA          0.23006    0.59885   0.384   0.7011    \n",
              "scaled_Opp_2P           0.07367    0.43922   0.168   0.8669    \n",
              "scaled_TO_Forced        0.20350    1.47983   0.138   0.8907    \n",
              "scaled_FTr              0.60761    1.10662   0.549   0.5834    \n",
              "scaled_TS_percent       0.63715    0.34409   1.852   0.0651 .  \n",
              "scaled_Def_TOV_percent -0.06769    1.59825  -0.042   0.9662    \n",
              "scaled_DRB_percent      0.37249    0.26134   1.425   0.1552    \n",
              "Top10_Scorer            0.74888    0.36229   2.067   0.0396 *  \n",
              "scaled_Seed            -3.15070    0.28009 -11.249   <2e-16 ***\n",
              "---\n",
              "Signif. codes:  0 ‘***’ 0.001 ‘**’ 0.01 ‘*’ 0.05 ‘.’ 0.1 ‘ ’ 1\n",
              "\n",
              "Residual standard error: 3.278 on 289 degrees of freedom\n",
              "Multiple R-squared:  0.5442,\tAdjusted R-squared:  0.5252 \n",
              "F-statistic: 28.75 on 12 and 289 DF,  p-value: < 2.2e-16\n"
            ]
          },
          "metadata": {}
        }
      ]
    },
    {
      "cell_type": "code",
      "source": [
        "rmse(model2)"
      ],
      "metadata": {
        "colab": {
          "base_uri": "https://localhost:8080/",
          "height": 34
        },
        "id": "2qpGy1d7PJ6g",
        "outputId": "ef40d0dc-e386-430d-e747-d3ca3feee49f"
      },
      "execution_count": null,
      "outputs": [
        {
          "output_type": "display_data",
          "data": {
            "text/html": [
              "3.20690551254883"
            ],
            "text/markdown": "3.20690551254883",
            "text/latex": "3.20690551254883",
            "text/plain": [
              "[1] 3.206906"
            ]
          },
          "metadata": {}
        }
      ]
    },
    {
      "cell_type": "markdown",
      "source": [
        "### Model 3"
      ],
      "metadata": {
        "id": "e6mA3Fw-P4b3"
      }
    },
    {
      "cell_type": "code",
      "source": [
        "model3 <- lm(Wins ~ scaled_TO_Forced + scaled_TS_percent + scaled_Def_TOV_percent +\n",
        "             scaled_DRB_percent + Top10_Scorer + scaled_Seed,\n",
        "           data = train)"
      ],
      "metadata": {
        "id": "w1MVSEE1PMem"
      },
      "execution_count": null,
      "outputs": []
    },
    {
      "cell_type": "code",
      "source": [
        "summary(model3)"
      ],
      "metadata": {
        "colab": {
          "base_uri": "https://localhost:8080/",
          "height": 454
        },
        "id": "8RdYBpA7PsSw",
        "outputId": "bf98d987-0fa7-421d-d6dc-9674ff63d378"
      },
      "execution_count": null,
      "outputs": [
        {
          "output_type": "display_data",
          "data": {
            "text/plain": [
              "\n",
              "Call:\n",
              "lm(formula = Wins ~ scaled_TO_Forced + scaled_TS_percent + scaled_Def_TOV_percent + \n",
              "    scaled_DRB_percent + Top10_Scorer + scaled_Seed, data = train)\n",
              "\n",
              "Residuals:\n",
              "    Min      1Q  Median      3Q     Max \n",
              "-8.4928 -2.1329 -0.2901  1.9784  9.3955 \n",
              "\n",
              "Coefficients:\n",
              "                       Estimate Std. Error t value Pr(>|t|)    \n",
              "(Intercept)             4.51134    0.30035  15.020   <2e-16 ***\n",
              "scaled_TO_Forced        0.03469    0.68265   0.051   0.9595    \n",
              "scaled_TS_percent       0.64765    0.27076   2.392   0.0174 *  \n",
              "scaled_Def_TOV_percent  0.11404    0.65647   0.174   0.8622    \n",
              "scaled_DRB_percent      0.40820    0.24810   1.645   0.1010    \n",
              "Top10_Scorer            0.62956    0.34523   1.824   0.0692 .  \n",
              "scaled_Seed            -3.24496    0.22775 -14.248   <2e-16 ***\n",
              "---\n",
              "Signif. codes:  0 ‘***’ 0.001 ‘**’ 0.01 ‘*’ 0.05 ‘.’ 0.1 ‘ ’ 1\n",
              "\n",
              "Residual standard error: 3.258 on 295 degrees of freedom\n",
              "Multiple R-squared:  0.5404,\tAdjusted R-squared:  0.531 \n",
              "F-statistic: 57.81 on 6 and 295 DF,  p-value: < 2.2e-16\n"
            ]
          },
          "metadata": {}
        }
      ]
    },
    {
      "cell_type": "code",
      "source": [
        "rmse(model3)"
      ],
      "metadata": {
        "colab": {
          "base_uri": "https://localhost:8080/",
          "height": 34
        },
        "id": "M_cWHNLJh2fR",
        "outputId": "878024a5-c828-4a30-d712-97475f483168"
      },
      "execution_count": null,
      "outputs": [
        {
          "output_type": "display_data",
          "data": {
            "text/html": [
              "3.22014258151314"
            ],
            "text/markdown": "3.22014258151314",
            "text/latex": "3.22014258151314",
            "text/plain": [
              "[1] 3.220143"
            ]
          },
          "metadata": {}
        }
      ]
    },
    {
      "cell_type": "markdown",
      "source": [
        "All predictors are now significant.\n",
        "\n",
        "$R^2$ = ~0.52\n",
        "\n",
        "RMSE = 3.25 wins"
      ],
      "metadata": {
        "id": "ImpWUg-PQH9H"
      }
    },
    {
      "cell_type": "code",
      "source": [
        "par(mfrow = c(2,2))\n",
        "plot(model3)"
      ],
      "metadata": {
        "colab": {
          "base_uri": "https://localhost:8080/",
          "height": 437
        },
        "id": "F1Y3hpCqhiSe",
        "outputId": "9e513e64-3de8-43ba-c924-78811ac94872"
      },
      "execution_count": null,
      "outputs": [
        {
          "output_type": "display_data",
          "data": {
            "text/plain": [
              "Plot with title “”"
            ],
            "image/png": "[encoded data removed]"
          },
          "metadata": {
            "image/png": {
              "width": 420,
              "height": 420
            }
          }
        }
      ]
    },
    {
      "cell_type": "code",
      "source": [
        "# Compute studentized residuals\n",
        "student_resid <- rstudent(model3)\n",
        "\n",
        "# Find indices of observations with residuals > 2.25 or < -2.25\n",
        "high_resid_indices <- which(abs(student_resid) > 2.25)\n",
        "\n",
        "# View the studentized residuals for these points\n",
        "high_resid_values <- student_resid[high_resid_indices]\n",
        "print(high_resid_values)"
      ],
      "metadata": {
        "colab": {
          "base_uri": "https://localhost:8080/"
        },
        "id": "8iet7PEWv-xH",
        "outputId": "9c17b521-93fc-4fd2-deb7-d1b04e12f388"
      },
      "execution_count": null,
      "outputs": [
        {
          "output_type": "stream",
          "name": "stdout",
          "text": [
            "       45        51        57        67       101       180       224       236 \n",
            " 2.380181  2.283871 -2.661664  2.518636  2.339326  2.770577  2.375206  2.343318 \n",
            "      249       271       274 \n",
            " 2.944670  2.413984  2.536896 \n"
          ]
        }
      ]
    },
    {
      "cell_type": "markdown",
      "source": [
        "Let's take a look at some of the high residual points and look for anomalies."
      ],
      "metadata": {
        "id": "boCHNFKxlLiF"
      }
    },
    {
      "cell_type": "code",
      "source": [
        "train[high_resid_indices, c('Season', 'Team', 'Seed')]"
      ],
      "metadata": {
        "colab": {
          "base_uri": "https://localhost:8080/",
          "height": 443
        },
        "id": "IRsiyUHujGCJ",
        "outputId": "b41ddae7-ec5e-4bdc-df27-3b3eb935bdfd"
      },
      "execution_count": null,
      "outputs": [
        {
          "output_type": "display_data",
          "data": {
            "text/html": [
              "<table class=\"dataframe\">\n",
              "<caption>A tibble: 11 × 3</caption>\n",
              "<thead>\n",
              "\t<tr><th scope=col>Season</th><th scope=col>Team</th><th scope=col>Seed</th></tr>\n",
              "\t<tr><th scope=col>&lt;int&gt;</th><th scope=col>&lt;chr&gt;</th><th scope=col>&lt;int&gt;</th></tr>\n",
              "</thead>\n",
              "<tbody>\n",
              "\t<tr><td>2021</td><td>Milwaukee Bucks      </td><td>3</td></tr>\n",
              "\t<tr><td>2020</td><td>Miami Heat           </td><td>4</td></tr>\n",
              "\t<tr><td>2007</td><td>Dallas Mavericks     </td><td>1</td></tr>\n",
              "\t<tr><td>2007</td><td>San Antonio Spurs    </td><td>3</td></tr>\n",
              "\t<tr><td>2011</td><td>Memphis Grizzlies    </td><td>8</td></tr>\n",
              "\t<tr><td>2010</td><td>Boston Celtics       </td><td>4</td></tr>\n",
              "\t<tr><td>2006</td><td>Dallas Mavericks     </td><td>4</td></tr>\n",
              "\t<tr><td>2002</td><td>Los Angeles Lakers   </td><td>3</td></tr>\n",
              "\t<tr><td>2004</td><td>Detroit Pistons      </td><td>3</td></tr>\n",
              "\t<tr><td>2011</td><td>Dallas Mavericks     </td><td>3</td></tr>\n",
              "\t<tr><td>2022</td><td>Golden State Warriors</td><td>3</td></tr>\n",
              "</tbody>\n",
              "</table>\n"
            ],
            "text/markdown": "\nA tibble: 11 × 3\n\n| Season &lt;int&gt; | Team &lt;chr&gt; | Seed &lt;int&gt; |\n|---|---|---|\n| 2021 | Milwaukee Bucks       | 3 |\n| 2020 | Miami Heat            | 4 |\n| 2007 | Dallas Mavericks      | 1 |\n| 2007 | San Antonio Spurs     | 3 |\n| 2011 | Memphis Grizzlies     | 8 |\n| 2010 | Boston Celtics        | 4 |\n| 2006 | Dallas Mavericks      | 4 |\n| 2002 | Los Angeles Lakers    | 3 |\n| 2004 | Detroit Pistons       | 3 |\n| 2011 | Dallas Mavericks      | 3 |\n| 2022 | Golden State Warriors | 3 |\n\n",
            "text/latex": "A tibble: 11 × 3\n\\begin{tabular}{lll}\n Season & Team & Seed\\\\\n <int> & <chr> & <int>\\\\\n\\hline\n\t 2021 & Milwaukee Bucks       & 3\\\\\n\t 2020 & Miami Heat            & 4\\\\\n\t 2007 & Dallas Mavericks      & 1\\\\\n\t 2007 & San Antonio Spurs     & 3\\\\\n\t 2011 & Memphis Grizzlies     & 8\\\\\n\t 2010 & Boston Celtics        & 4\\\\\n\t 2006 & Dallas Mavericks      & 4\\\\\n\t 2002 & Los Angeles Lakers    & 3\\\\\n\t 2004 & Detroit Pistons       & 3\\\\\n\t 2011 & Dallas Mavericks      & 3\\\\\n\t 2022 & Golden State Warriors & 3\\\\\n\\end{tabular}\n",
            "text/plain": [
              "   Season Team                  Seed\n",
              "1  2021   Milwaukee Bucks       3   \n",
              "2  2020   Miami Heat            4   \n",
              "3  2007   Dallas Mavericks      1   \n",
              "4  2007   San Antonio Spurs     3   \n",
              "5  2011   Memphis Grizzlies     8   \n",
              "6  2010   Boston Celtics        4   \n",
              "7  2006   Dallas Mavericks      4   \n",
              "8  2002   Los Angeles Lakers    3   \n",
              "9  2004   Detroit Pistons       3   \n",
              "10 2011   Dallas Mavericks      3   \n",
              "11 2022   Golden State Warriors 3   "
            ]
          },
          "metadata": {}
        }
      ]
    },
    {
      "cell_type": "markdown",
      "source": [
        "\n",
        "\n",
        "*   **2023 Heat**: Beat the 1 seed Bucks in the first round, but the Bucks were without there MVP caliber player, Giannis, for half the series.\n",
        "*   **2012 Bulls**: Lost to 8 seed 76ers in the first round, but in game 1 of the series D Rose tore his ACL.\n",
        "*   **2012 76ers**: Beat the 1 seed Bulls, but that may be due to an injury to the Bulls star player.\n",
        "*   **2013 Thunder**: Lost in second round to the Grizzlies, but they were missing their second best player Russell Westbrook.\n",
        "\n",
        "<br>\n",
        "Let's try to remove these data points from the dataset and rerun the model\n",
        "\n",
        "\n"
      ],
      "metadata": {
        "id": "nN1Zr8BAlIil"
      }
    },
    {
      "cell_type": "markdown",
      "source": [
        "### Model After Removing Outliers"
      ],
      "metadata": {
        "id": "a6AKDuJFsZVA"
      }
    },
    {
      "cell_type": "code",
      "source": [
        "model4 <- lm(Wins ~ scaled_TO_Forced + scaled_TS_percent + scaled_Def_TOV_percent +\n",
        "             scaled_DRB_percent + Top10_Scorer + scaled_Seed,\n",
        "           data = train)"
      ],
      "metadata": {
        "id": "t9maeR7usD2_"
      },
      "execution_count": null,
      "outputs": []
    },
    {
      "cell_type": "code",
      "source": [
        "summary(model4)"
      ],
      "metadata": {
        "colab": {
          "base_uri": "https://localhost:8080/",
          "height": 454
        },
        "id": "iLelV3M9sHu3",
        "outputId": "8fc234a0-b8b1-4dd1-b0b2-ba27d4d9f297"
      },
      "execution_count": null,
      "outputs": [
        {
          "output_type": "display_data",
          "data": {
            "text/plain": [
              "\n",
              "Call:\n",
              "lm(formula = Wins ~ scaled_TO_Forced + scaled_TS_percent + scaled_Def_TOV_percent + \n",
              "    scaled_DRB_percent + Top10_Scorer + scaled_Seed, data = train)\n",
              "\n",
              "Residuals:\n",
              "    Min      1Q  Median      3Q     Max \n",
              "-8.4928 -2.1329 -0.2901  1.9784  9.3955 \n",
              "\n",
              "Coefficients:\n",
              "                       Estimate Std. Error t value Pr(>|t|)    \n",
              "(Intercept)             4.51134    0.30035  15.020   <2e-16 ***\n",
              "scaled_TO_Forced        0.03469    0.68265   0.051   0.9595    \n",
              "scaled_TS_percent       0.64765    0.27076   2.392   0.0174 *  \n",
              "scaled_Def_TOV_percent  0.11404    0.65647   0.174   0.8622    \n",
              "scaled_DRB_percent      0.40820    0.24810   1.645   0.1010    \n",
              "Top10_Scorer            0.62956    0.34523   1.824   0.0692 .  \n",
              "scaled_Seed            -3.24496    0.22775 -14.248   <2e-16 ***\n",
              "---\n",
              "Signif. codes:  0 ‘***’ 0.001 ‘**’ 0.01 ‘*’ 0.05 ‘.’ 0.1 ‘ ’ 1\n",
              "\n",
              "Residual standard error: 3.258 on 295 degrees of freedom\n",
              "Multiple R-squared:  0.5404,\tAdjusted R-squared:  0.531 \n",
              "F-statistic: 57.81 on 6 and 295 DF,  p-value: < 2.2e-16\n"
            ]
          },
          "metadata": {}
        }
      ]
    },
    {
      "cell_type": "code",
      "source": [
        "rmse(model4)"
      ],
      "metadata": {
        "colab": {
          "base_uri": "https://localhost:8080/",
          "height": 34
        },
        "id": "Bfur6_wlsM-w",
        "outputId": "4fb607fe-29cd-42a7-80fa-867010679365"
      },
      "execution_count": null,
      "outputs": [
        {
          "output_type": "display_data",
          "data": {
            "text/html": [
              "3.22014258151314"
            ],
            "text/markdown": "3.22014258151314",
            "text/latex": "3.22014258151314",
            "text/plain": [
              "[1] 3.220143"
            ]
          },
          "metadata": {}
        }
      ]
    },
    {
      "cell_type": "markdown",
      "source": [
        "Improved $R^2$ value and RMSE."
      ],
      "metadata": {
        "id": "ng2T4yflsfbi"
      }
    },
    {
      "cell_type": "markdown",
      "source": [
        "### Model with Unscaled Values"
      ],
      "metadata": {
        "id": "1UHwuXLwfD-4"
      }
    },
    {
      "cell_type": "code",
      "source": [
        "unscaled_values_model<- lm(Wins ~ FG + FGA + FG_percent + X3P +\n",
        "             X3P_percent + X2P + X2PA + X2P_percent + FT +\n",
        "             FTA + FT_percent + ORB + DRB + TRB + AST +\n",
        "             STL + BLK + TOV + PF + PTS + Assist_TO + Opp_FG +\n",
        "             Opp_FGA + Opp_FG_percent + Opp_3P + Opp_3PA + Opp_3P_percent +\n",
        "             Opp_2P + Opp_2PA + Opp_2P_percent + Opp_FT + Opp_FTA +\n",
        "             Opp_FT_percent + Off_Reb_Allowed + Opp_DRB + Opp_Total_Reb +\n",
        "             Opp_AST + Opp_STL + TO_Forced + Points_Allowed + Age +\n",
        "             MOV + SOS + SRS + ORtg + DRtg + NRtg + Pace +\n",
        "             FTr + X3PAr + TS_percent + eFG_percent + ORB_percent +\n",
        "             FT_FGA + Def_eFG_percent + Def_TOV_percent + DRB_percent + Def_FT_FGA +\n",
        "             win_percentage + Top10_Scorer + Top10_Rebounder + Seed,\n",
        "            data = train)"
      ],
      "metadata": {
        "id": "ee0gOVOgeGya"
      },
      "execution_count": null,
      "outputs": []
    },
    {
      "cell_type": "code",
      "source": [
        "summary(unscaled_values_model)"
      ],
      "metadata": {
        "colab": {
          "base_uri": "https://localhost:8080/",
          "height": 1000
        },
        "id": "RgY5CN6Dfthr",
        "outputId": "91a03443-b9c4-4362-eb06-6e7f3d35d402"
      },
      "execution_count": null,
      "outputs": [
        {
          "output_type": "display_data",
          "data": {
            "text/plain": [
              "\n",
              "Call:\n",
              "lm(formula = Wins ~ FG + FGA + FG_percent + X3P + X3P_percent + \n",
              "    X2P + X2PA + X2P_percent + FT + FTA + FT_percent + ORB + \n",
              "    DRB + TRB + AST + STL + BLK + TOV + PF + PTS + Assist_TO + \n",
              "    Opp_FG + Opp_FGA + Opp_FG_percent + Opp_3P + Opp_3PA + Opp_3P_percent + \n",
              "    Opp_2P + Opp_2PA + Opp_2P_percent + Opp_FT + Opp_FTA + Opp_FT_percent + \n",
              "    Off_Reb_Allowed + Opp_DRB + Opp_Total_Reb + Opp_AST + Opp_STL + \n",
              "    TO_Forced + Points_Allowed + Age + MOV + SOS + SRS + ORtg + \n",
              "    DRtg + NRtg + Pace + FTr + X3PAr + TS_percent + eFG_percent + \n",
              "    ORB_percent + FT_FGA + Def_eFG_percent + Def_TOV_percent + \n",
              "    DRB_percent + Def_FT_FGA + win_percentage + Top10_Scorer + \n",
              "    Top10_Rebounder + Seed, data = train)\n",
              "\n",
              "Residuals:\n",
              "    Min      1Q  Median      3Q     Max \n",
              "-7.0677 -1.8999 -0.1524  1.6966  7.5799 \n",
              "\n",
              "Coefficients: (1 not defined because of singularities)\n",
              "                  Estimate Std. Error t value Pr(>|t|)    \n",
              "(Intercept)      4.203e+02  3.387e+02   1.241  0.21577    \n",
              "FG               4.017e+00  6.665e+00   0.603  0.54723    \n",
              "FGA              5.163e-01  2.582e+00   0.200  0.84165    \n",
              "FG_percent       7.420e+02  4.798e+02   1.547  0.12326    \n",
              "X3P              1.706e+00  6.023e+00   0.283  0.77722    \n",
              "X3P_percent     -6.194e+01  3.680e+01  -1.683  0.09363 .  \n",
              "X2P             -5.751e+00  4.377e+00  -1.314  0.19013    \n",
              "X2PA             2.312e+00  1.692e+00   1.366  0.17322    \n",
              "X2P_percent      1.947e+01  9.264e+01   0.210  0.83369    \n",
              "FT              -3.549e+00  4.950e+00  -0.717  0.47418    \n",
              "FTA              2.602e+00  3.775e+00   0.689  0.49132    \n",
              "FT_percent       5.799e+01  5.902e+01   0.983  0.32679    \n",
              "ORB              8.571e+00  4.655e+00   1.841  0.06683 .  \n",
              "DRB              9.071e+00  4.479e+00   2.025  0.04396 *  \n",
              "TRB             -6.355e+00  4.363e+00  -1.457  0.14652    \n",
              "AST              1.286e+00  9.414e-01   1.366  0.17316    \n",
              "STL              3.591e-01  5.017e-01   0.716  0.47481    \n",
              "BLK             -2.632e-01  3.230e-01  -0.815  0.41586    \n",
              "TOV             -3.279e-01  2.532e+00  -0.129  0.89708    \n",
              "PF              -2.426e-01  3.308e-01  -0.734  0.46396    \n",
              "PTS              1.216e+00  5.525e+00   0.220  0.82603    \n",
              "Assist_TO       -1.775e+01  1.304e+01  -1.361  0.17487    \n",
              "Opp_FG          -4.339e+00  6.043e+00  -0.718  0.47345    \n",
              "Opp_FGA         -1.165e+01  4.606e+00  -2.530  0.01205 *  \n",
              "Opp_FG_percent  -6.537e+02  4.875e+02  -1.341  0.18116    \n",
              "Opp_3P          -4.687e+00  5.505e+00  -0.852  0.39532    \n",
              "Opp_3PA          5.662e+00  4.485e+00   1.262  0.20800    \n",
              "Opp_3P_percent  -7.157e+01  4.974e+01  -1.439  0.15146    \n",
              "Opp_2P          -2.463e+00  4.117e+00  -0.598  0.55025    \n",
              "Opp_2PA          7.337e+00  4.522e+00   1.623  0.10597    \n",
              "Opp_2P_percent   1.322e+02  1.102e+02   1.199  0.23154    \n",
              "Opp_FT          -4.316e+00  4.743e+00  -0.910  0.36377    \n",
              "Opp_FTA          1.934e+00  3.718e+00   0.520  0.60336    \n",
              "Opp_FT_percent   6.391e+01  1.139e+02   0.561  0.57520    \n",
              "Off_Reb_Allowed  3.500e+00  4.374e+00   0.800  0.42441    \n",
              "Opp_DRB          1.069e+01  4.055e+00   2.637  0.00890 ** \n",
              "Opp_Total_Reb   -1.100e+01  4.119e+00  -2.671  0.00808 ** \n",
              "Opp_AST         -2.239e-01  2.245e-01  -0.997  0.31968    \n",
              "Opp_STL          5.920e-01  6.300e-01   0.940  0.34832    \n",
              "TO_Forced        3.409e+00  3.662e+00   0.931  0.35282    \n",
              "Points_Allowed   3.560e+00  5.234e+00   0.680  0.49705    \n",
              "Age             -4.306e-02  1.585e-01  -0.272  0.78605    \n",
              "MOV              6.854e+01  3.811e+01   1.798  0.07336 .  \n",
              "SOS              7.133e+01  3.792e+01   1.881  0.06117 .  \n",
              "SRS             -7.233e+01  3.796e+01  -1.906  0.05790 .  \n",
              "ORtg             1.940e+00  3.066e+00   0.633  0.52751    \n",
              "DRtg            -7.219e-01  2.925e+00  -0.247  0.80526    \n",
              "NRtg                    NA         NA      NA       NA    \n",
              "Pace            -5.340e-01  5.763e-01  -0.926  0.35513    \n",
              "FTr              1.331e+02  2.664e+02   0.500  0.61775    \n",
              "X3PAr            6.159e+01  1.218e+02   0.506  0.61351    \n",
              "TS_percent       7.224e+02  5.673e+02   1.273  0.20410    \n",
              "eFG_percent     -1.088e+03  5.189e+02  -2.097  0.03705 *  \n",
              "ORB_percent     -1.740e+00  1.837e+00  -0.947  0.34454    \n",
              "FT_FGA          -1.527e+02  3.725e+02  -0.410  0.68217    \n",
              "Def_eFG_percent -6.347e+01  4.456e+02  -0.142  0.88687    \n",
              "Def_TOV_percent -4.230e+00  4.827e+00  -0.876  0.38167    \n",
              "DRB_percent     -4.250e+00  1.865e+00  -2.279  0.02354 *  \n",
              "Def_FT_FGA      -4.116e+02  1.828e+02  -2.251  0.02526 *  \n",
              "win_percentage   4.706e+00  8.653e+00   0.544  0.58706    \n",
              "Top10_Scorer     1.273e+00  3.824e-01   3.330  0.00101 ** \n",
              "Top10_Rebounder -1.496e-02  4.493e-01  -0.033  0.97346    \n",
              "Seed            -1.025e+00  1.795e-01  -5.706 3.39e-08 ***\n",
              "---\n",
              "Signif. codes:  0 ‘***’ 0.001 ‘**’ 0.01 ‘*’ 0.05 ‘.’ 0.1 ‘ ’ 1\n",
              "\n",
              "Residual standard error: 3.138 on 240 degrees of freedom\n",
              "Multiple R-squared:  0.653,\tAdjusted R-squared:  0.5649 \n",
              "F-statistic: 7.405 on 61 and 240 DF,  p-value: < 2.2e-16\n"
            ]
          },
          "metadata": {}
        }
      ]
    },
    {
      "cell_type": "code",
      "source": [
        "rmse(unscaled_values_model)"
      ],
      "metadata": {
        "colab": {
          "base_uri": "https://localhost:8080/",
          "height": 34
        },
        "id": "yAIWJkuRfwfk",
        "outputId": "cad6106a-b560-4172-d344-26c7fdd354ab"
      },
      "execution_count": null,
      "outputs": [
        {
          "output_type": "display_data",
          "data": {
            "text/html": [
              "2.72343851758635"
            ],
            "text/markdown": "2.72343851758635",
            "text/latex": "2.72343851758635",
            "text/plain": [
              "[1] 2.723439"
            ]
          },
          "metadata": {}
        }
      ]
    },
    {
      "cell_type": "markdown",
      "source": [
        "Slightly better metrics than with the scaled values, but the coefficients don't make much sense."
      ],
      "metadata": {
        "id": "ySa83fuThXr2"
      }
    },
    {
      "cell_type": "markdown",
      "source": [
        "### MLR without Seed"
      ],
      "metadata": {
        "id": "6n2zqTdgU36B"
      }
    },
    {
      "cell_type": "code",
      "source": [
        "lmWithoutSeed <- lm(Wins ~ scaled_FG + scaled_FGA + scaled_FG_percent + scaled_X3P +\n",
        "             scaled_X3P_percent + scaled_X2P + scaled_X2PA + scaled_X2P_percent + scaled_FT +\n",
        "             scaled_FTA + scaled_FT_percent + scaled_ORB + scaled_DRB + scaled_TRB + scaled_AST +\n",
        "             scaled_STL + scaled_BLK + scaled_TOV + scaled_PF + scaled_PTS + scaled_Assist_TO + scaled_Opp_FG +\n",
        "             scaled_Opp_FGA + scaled_Opp_FG_percent + scaled_Opp_3P + scaled_Opp_3PA + scaled_Opp_3P_percent +\n",
        "             scaled_Opp_2P + scaled_Opp_2PA + scaled_Opp_2P_percent + scaled_Opp_FT + scaled_Opp_FTA +\n",
        "             scaled_Opp_FT_percent + scaled_Off_Reb_Allowed + scaled_Opp_DRB + scaled_Opp_Total_Reb +\n",
        "             scaled_Opp_AST + scaled_Opp_STL + scaled_TO_Forced + scaled_Points_Allowed + scaled_Age +\n",
        "             scaled_MOV + scaled_SOS + scaled_SRS + scaled_ORtg + scaled_DRtg + scaled_NRtg + scaled_Pace +\n",
        "             scaled_FTr + scaled_X3PAr + scaled_TS_percent + scaled_eFG_percent + scaled_ORB_percent +\n",
        "             scaled_FT_FGA + scaled_Def_eFG_percent + scaled_Def_TOV_percent + scaled_DRB_percent + scaled_Def_FT_FGA +\n",
        "             win_percentage + Top10_Scorer + Top10_Rebounder,\n",
        "            data = train)\n",
        "\n",
        "step_model <- step(lmWithoutSeed, direction = 'both')"
      ],
      "metadata": {
        "id": "LSVEZmTQSc23"
      },
      "execution_count": null,
      "outputs": []
    },
    {
      "cell_type": "code",
      "source": [
        "summary(step_model)"
      ],
      "metadata": {
        "colab": {
          "base_uri": "https://localhost:8080/",
          "height": 838
        },
        "collapsed": true,
        "id": "qi5tGaAQTYGP",
        "outputId": "fe9ac75b-a68c-4cc9-fca9-3c90025bdc58"
      },
      "execution_count": null,
      "outputs": [
        {
          "output_type": "display_data",
          "data": {
            "text/plain": [
              "\n",
              "Call:\n",
              "lm(formula = Wins ~ scaled_FGA + scaled_X3P + scaled_X3P_percent + \n",
              "    scaled_X2P + scaled_ORB + scaled_PF + scaled_Opp_FG + scaled_Opp_3P + \n",
              "    scaled_Opp_3PA + scaled_Opp_2P + scaled_Opp_2PA + scaled_Opp_FT + \n",
              "    scaled_Off_Reb_Allowed + scaled_Opp_DRB + scaled_Opp_Total_Reb + \n",
              "    scaled_SRS + scaled_ORtg + scaled_NRtg + scaled_Pace + scaled_X3PAr + \n",
              "    scaled_ORB_percent + win_percentage + Top10_Scorer, data = train)\n",
              "\n",
              "Residuals:\n",
              "   Min     1Q Median     3Q    Max \n",
              "-8.005 -2.330 -0.352  1.964  9.982 \n",
              "\n",
              "Coefficients:\n",
              "                       Estimate Std. Error t value Pr(>|t|)    \n",
              "(Intercept)            -17.8362     3.3078  -5.392 1.49e-07 ***\n",
              "scaled_FGA              -2.4239     0.6934  -3.496 0.000551 ***\n",
              "scaled_X3P               7.8321     2.0100   3.897 0.000122 ***\n",
              "scaled_X3P_percent      -1.6020     0.5919  -2.707 0.007218 ** \n",
              "scaled_X2P               1.4535     0.7109   2.045 0.041833 *  \n",
              "scaled_ORB               2.7649     1.6091   1.718 0.086855 .  \n",
              "scaled_PF               -0.8385     0.5058  -1.658 0.098514 .  \n",
              "scaled_Opp_FG            5.0713     1.5597   3.252 0.001289 ** \n",
              "scaled_Opp_3P           -3.0170     0.8986  -3.357 0.000896 ***\n",
              "scaled_Opp_3PA           2.6423     0.6579   4.016 7.62e-05 ***\n",
              "scaled_Opp_2P           -3.7192     1.3705  -2.714 0.007066 ** \n",
              "scaled_Opp_2PA           1.1962     0.5725   2.089 0.037587 *  \n",
              "scaled_Opp_FT            1.7675     0.6909   2.558 0.011046 *  \n",
              "scaled_Off_Reb_Allowed  -2.3701     1.1537  -2.054 0.040867 *  \n",
              "scaled_Opp_DRB          -4.0020     2.0793  -1.925 0.055293 .  \n",
              "scaled_Opp_Total_Reb     3.9907     2.5435   1.569 0.117783    \n",
              "scaled_SRS             -10.8565     2.6552  -4.089 5.68e-05 ***\n",
              "scaled_ORtg             -1.9618     0.9745  -2.013 0.045066 *  \n",
              "scaled_NRtg             12.4899     2.9159   4.283 2.54e-05 ***\n",
              "scaled_Pace             -1.3907     0.6832  -2.036 0.042732 *  \n",
              "scaled_X3PAr            -5.4968     1.8446  -2.980 0.003138 ** \n",
              "scaled_ORB_percent      -2.4503     1.7567  -1.395 0.164188    \n",
              "win_percentage          36.6232     6.3745   5.745 2.41e-08 ***\n",
              "Top10_Scorer             0.9019     0.3731   2.418 0.016266 *  \n",
              "---\n",
              "Signif. codes:  0 ‘***’ 0.001 ‘**’ 0.01 ‘*’ 0.05 ‘.’ 0.1 ‘ ’ 1\n",
              "\n",
              "Residual standard error: 3.308 on 278 degrees of freedom\n",
              "Multiple R-squared:  0.5536,\tAdjusted R-squared:  0.5166 \n",
              "F-statistic: 14.99 on 23 and 278 DF,  p-value: < 2.2e-16\n"
            ]
          },
          "metadata": {}
        }
      ]
    },
    {
      "cell_type": "code",
      "source": [
        "# Train RMSE\n",
        "rmse(step_model)"
      ],
      "metadata": {
        "colab": {
          "base_uri": "https://localhost:8080/",
          "height": 34
        },
        "id": "bQeGkQXyUbFX",
        "outputId": "46860962-f908-49a6-fcbe-30d764cffc8c"
      },
      "execution_count": null,
      "outputs": [
        {
          "output_type": "display_data",
          "data": {
            "text/html": [
              "3.17362411182533"
            ],
            "text/markdown": "3.17362411182533",
            "text/latex": "3.17362411182533",
            "text/plain": [
              "[1] 3.173624"
            ]
          },
          "metadata": {}
        }
      ]
    },
    {
      "cell_type": "code",
      "source": [
        "test <- test |>\n",
        "  mutate(\n",
        "    step_model_predictions = predict(step_model, test)\n",
        "  )"
      ],
      "metadata": {
        "id": "F7eCiqc6gwOQ"
      },
      "execution_count": null,
      "outputs": []
    },
    {
      "cell_type": "code",
      "source": [
        "# RMSE on test data\n",
        "# Step 1: Calculate Squared Errors\n",
        "squared_errors <- (test$Wins - test$step_model_predictions)^2\n",
        "\n",
        "# Step 2: Compute Mean Squared Error (MSE)\n",
        "mse <- mean(squared_errors)\n",
        "\n",
        "# Step 3: Take Square Root to get RMSE\n",
        "rmse <- sqrt(mse)\n",
        "\n",
        "# Print RMSE\n",
        "paste('Step Model RMSE = ', round(rmse,3))"
      ],
      "metadata": {
        "colab": {
          "base_uri": "https://localhost:8080/",
          "height": 34
        },
        "id": "zJtoo7UKhFyF",
        "outputId": "642575ba-c716-4657-dc04-d9632bba89ae"
      },
      "execution_count": null,
      "outputs": [
        {
          "output_type": "display_data",
          "data": {
            "text/html": [
              "<span style=white-space:pre-wrap>'Step Model RMSE =  4.049'</span>"
            ],
            "text/markdown": "<span style=white-space:pre-wrap>'Step Model RMSE =  4.049'</span>",
            "text/latex": "'Step Model RMSE =  4.049'",
            "text/plain": [
              "[1] \"Step Model RMSE =  4.049\""
            ]
          },
          "metadata": {}
        }
      ]
    },
    {
      "cell_type": "code",
      "source": [
        "season2024 <- Scaled_Values |>\n",
        "  filter(Season == 2024 & Playoff == 1)"
      ],
      "metadata": {
        "id": "6mX_5CE8VBbM"
      },
      "execution_count": null,
      "outputs": []
    },
    {
      "cell_type": "code",
      "source": [
        "season2024 <- season2024 |>\n",
        "  mutate(\n",
        "    mlr_win_Predictions = predict(step_model, season2024)\n",
        "  ) |>\n",
        "  arrange(desc(mlr_win_Predictions))\n",
        "\n",
        "\n",
        "season2024[, c(\"Seed\", \"Team\", 'Wins',\"mlr_win_Predictions\")]"
      ],
      "metadata": {
        "colab": {
          "base_uri": "https://localhost:8080/",
          "height": 599
        },
        "id": "zGYKnM7WVxO0",
        "outputId": "edbef888-1b20-4394-8e2f-dac8e28f0476"
      },
      "execution_count": null,
      "outputs": [
        {
          "output_type": "display_data",
          "data": {
            "text/html": [
              "<table class=\"dataframe\">\n",
              "<caption>A tibble: 16 × 4</caption>\n",
              "<thead>\n",
              "\t<tr><th scope=col>Seed</th><th scope=col>Team</th><th scope=col>Wins</th><th scope=col>mlr_win_Predictions</th></tr>\n",
              "\t<tr><th scope=col>&lt;int&gt;</th><th scope=col>&lt;chr&gt;</th><th scope=col>&lt;int&gt;</th><th scope=col>&lt;dbl&gt;</th></tr>\n",
              "</thead>\n",
              "<tbody>\n",
              "\t<tr><td>1</td><td>Boston Celtics        </td><td>16</td><td>14.198570</td></tr>\n",
              "\t<tr><td>1</td><td>Oklahoma City Thunder </td><td> 6</td><td> 9.741646</td></tr>\n",
              "\t<tr><td>2</td><td>Denver Nuggets        </td><td> 7</td><td> 8.781067</td></tr>\n",
              "\t<tr><td>3</td><td>Minnesota Timberwolves</td><td> 9</td><td> 7.204757</td></tr>\n",
              "\t<tr><td>3</td><td>Milwaukee Bucks       </td><td> 2</td><td> 6.761393</td></tr>\n",
              "\t<tr><td>6</td><td>Phoenix Suns          </td><td> 0</td><td> 6.597576</td></tr>\n",
              "\t<tr><td>8</td><td>New Orleans Pelicans  </td><td> 0</td><td> 6.586775</td></tr>\n",
              "\t<tr><td>4</td><td>Cleveland Cavaliers   </td><td> 5</td><td> 5.126821</td></tr>\n",
              "\t<tr><td>8</td><td>Miami Heat            </td><td> 1</td><td> 4.580988</td></tr>\n",
              "\t<tr><td>5</td><td>Dallas Mavericks      </td><td>13</td><td> 4.416778</td></tr>\n",
              "\t<tr><td>2</td><td>New York Knicks       </td><td> 7</td><td> 4.361577</td></tr>\n",
              "\t<tr><td>7</td><td>Los Angeles Lakers    </td><td> 1</td><td> 4.263276</td></tr>\n",
              "\t<tr><td>4</td><td>Los Angeles Clippers  </td><td> 2</td><td> 4.173570</td></tr>\n",
              "\t<tr><td>6</td><td>Indiana Pacers        </td><td> 8</td><td> 3.739345</td></tr>\n",
              "\t<tr><td>7</td><td>Philadelphia 76ers    </td><td> 2</td><td> 3.507961</td></tr>\n",
              "\t<tr><td>5</td><td>Orlando Magic         </td><td> 3</td><td> 3.102897</td></tr>\n",
              "</tbody>\n",
              "</table>\n"
            ],
            "text/markdown": "\nA tibble: 16 × 4\n\n| Seed &lt;int&gt; | Team &lt;chr&gt; | Wins &lt;int&gt; | mlr_win_Predictions &lt;dbl&gt; |\n|---|---|---|---|\n| 1 | Boston Celtics         | 16 | 14.198570 |\n| 1 | Oklahoma City Thunder  |  6 |  9.741646 |\n| 2 | Denver Nuggets         |  7 |  8.781067 |\n| 3 | Minnesota Timberwolves |  9 |  7.204757 |\n| 3 | Milwaukee Bucks        |  2 |  6.761393 |\n| 6 | Phoenix Suns           |  0 |  6.597576 |\n| 8 | New Orleans Pelicans   |  0 |  6.586775 |\n| 4 | Cleveland Cavaliers    |  5 |  5.126821 |\n| 8 | Miami Heat             |  1 |  4.580988 |\n| 5 | Dallas Mavericks       | 13 |  4.416778 |\n| 2 | New York Knicks        |  7 |  4.361577 |\n| 7 | Los Angeles Lakers     |  1 |  4.263276 |\n| 4 | Los Angeles Clippers   |  2 |  4.173570 |\n| 6 | Indiana Pacers         |  8 |  3.739345 |\n| 7 | Philadelphia 76ers     |  2 |  3.507961 |\n| 5 | Orlando Magic          |  3 |  3.102897 |\n\n",
            "text/latex": "A tibble: 16 × 4\n\\begin{tabular}{llll}\n Seed & Team & Wins & mlr\\_win\\_Predictions\\\\\n <int> & <chr> & <int> & <dbl>\\\\\n\\hline\n\t 1 & Boston Celtics         & 16 & 14.198570\\\\\n\t 1 & Oklahoma City Thunder  &  6 &  9.741646\\\\\n\t 2 & Denver Nuggets         &  7 &  8.781067\\\\\n\t 3 & Minnesota Timberwolves &  9 &  7.204757\\\\\n\t 3 & Milwaukee Bucks        &  2 &  6.761393\\\\\n\t 6 & Phoenix Suns           &  0 &  6.597576\\\\\n\t 8 & New Orleans Pelicans   &  0 &  6.586775\\\\\n\t 4 & Cleveland Cavaliers    &  5 &  5.126821\\\\\n\t 8 & Miami Heat             &  1 &  4.580988\\\\\n\t 5 & Dallas Mavericks       & 13 &  4.416778\\\\\n\t 2 & New York Knicks        &  7 &  4.361577\\\\\n\t 7 & Los Angeles Lakers     &  1 &  4.263276\\\\\n\t 4 & Los Angeles Clippers   &  2 &  4.173570\\\\\n\t 6 & Indiana Pacers         &  8 &  3.739345\\\\\n\t 7 & Philadelphia 76ers     &  2 &  3.507961\\\\\n\t 5 & Orlando Magic          &  3 &  3.102897\\\\\n\\end{tabular}\n",
            "text/plain": [
              "   Seed Team                   Wins mlr_win_Predictions\n",
              "2  1    Boston Celtics         16   14.198570          \n",
              "1  1    Oklahoma City Thunder   6    9.741646          \n",
              "3  2    Denver Nuggets          7    8.781067          \n",
              "4  3    Minnesota Timberwolves  9    7.204757          \n",
              "5  3    Milwaukee Bucks         2    6.761393          \n",
              "12 6    Phoenix Suns            0    6.597576          \n",
              "15 8    New Orleans Pelicans    0    6.586775          \n",
              "9  4    Cleveland Cavaliers     5    5.126821          \n",
              "13 8    Miami Heat              1    4.580988          \n",
              "11 5    Dallas Mavericks       13    4.416778          \n",
              "6  2    New York Knicks         7    4.361577          \n",
              "14 7    Los Angeles Lakers      1    4.263276          \n",
              "7  4    Los Angeles Clippers    2    4.173570          \n",
              "16 6    Indiana Pacers          8    3.739345          \n",
              "10 7    Philadelphia 76ers      2    3.507961          \n",
              "8  5    Orlando Magic           3    3.102897          "
            ]
          },
          "metadata": {}
        }
      ]
    },
    {
      "cell_type": "code",
      "source": [
        "squared_errors <- (season2024$Wins - season2024$mlr_win_Predictions)^2\n",
        "\n",
        "# Step 2: Compute Mean Squared Error (MSE)\n",
        "mse <- mean(squared_errors)\n",
        "\n",
        "# Step 3: Take Square Root to get RMSE\n",
        "rmse <- sqrt(mse)\n",
        "\n",
        "# Print RMSE\n",
        "paste('MLR RMSE = ', round(rmse,3))"
      ],
      "metadata": {
        "colab": {
          "base_uri": "https://localhost:8080/",
          "height": 34
        },
        "id": "2pyH-gdWUnWY",
        "outputId": "c331ddc2-d980-42f0-9760-78f829e4a4ff"
      },
      "execution_count": null,
      "outputs": [
        {
          "output_type": "display_data",
          "data": {
            "text/html": [
              "<span style=white-space:pre-wrap>'MLR RMSE =  4.051'</span>"
            ],
            "text/markdown": "<span style=white-space:pre-wrap>'MLR RMSE =  4.051'</span>",
            "text/latex": "'MLR RMSE =  4.051'",
            "text/plain": [
              "[1] \"MLR RMSE =  4.051\""
            ]
          },
          "metadata": {}
        }
      ]
    },
    {
      "cell_type": "markdown",
      "source": [
        "## Random Forest"
      ],
      "metadata": {
        "id": "-I9rieeZS3DF"
      }
    },
    {
      "cell_type": "code",
      "source": [
        "install.packages('randomForest')"
      ],
      "metadata": {
        "id": "vcayWZxxS7Zt",
        "colab": {
          "base_uri": "https://localhost:8080/"
        },
        "outputId": "1f04bf88-0af6-4103-e05e-2b0f73a1db1b"
      },
      "execution_count": null,
      "outputs": [
        {
          "output_type": "stream",
          "name": "stderr",
          "text": [
            "Installing package into ‘/usr/local/lib/R/site-library’\n",
            "(as ‘lib’ is unspecified)\n",
            "\n"
          ]
        }
      ]
    },
    {
      "cell_type": "code",
      "source": [
        "library(randomForest)"
      ],
      "metadata": {
        "collapsed": true,
        "id": "LB2ZhbTKTCyR",
        "colab": {
          "base_uri": "https://localhost:8080/"
        },
        "outputId": "9cc873b9-b1e6-4447-983b-0bc98b7620fe"
      },
      "execution_count": null,
      "outputs": [
        {
          "output_type": "stream",
          "name": "stderr",
          "text": [
            "randomForest 4.7-1.2\n",
            "\n",
            "Type rfNews() to see new features/changes/bug fixes.\n",
            "\n",
            "\n",
            "Attaching package: ‘randomForest’\n",
            "\n",
            "\n",
            "The following object is masked from ‘package:dplyr’:\n",
            "\n",
            "    combine\n",
            "\n",
            "\n",
            "The following object is masked from ‘package:ggplot2’:\n",
            "\n",
            "    margin\n",
            "\n",
            "\n"
          ]
        }
      ]
    },
    {
      "cell_type": "markdown",
      "source": [
        "### Random Forest with Scaled Variables"
      ],
      "metadata": {
        "id": "_QZ1dq-MPUJZ"
      }
    },
    {
      "cell_type": "code",
      "source": [
        "rfModel1 <- randomForest(Wins ~ scaled_FG + scaled_FGA + scaled_FG_percent + scaled_X3P +\n",
        "             scaled_X3P_percent + scaled_X2P + scaled_X2PA + scaled_X2P_percent + scaled_FT +\n",
        "             scaled_FTA + scaled_FT_percent + scaled_ORB + scaled_DRB + scaled_TRB + scaled_AST +\n",
        "             scaled_STL + scaled_BLK + scaled_TOV + scaled_PF + scaled_PTS + scaled_Assist_TO + scaled_Opp_FG +\n",
        "             scaled_Opp_FGA + scaled_Opp_FG_percent + scaled_Opp_3P + scaled_Opp_3PA + scaled_Opp_3P_percent +\n",
        "             scaled_Opp_2P + scaled_Opp_2PA + scaled_Opp_2P_percent + scaled_Opp_FT + scaled_Opp_FTA +\n",
        "             scaled_Opp_FT_percent + scaled_Off_Reb_Allowed + scaled_Opp_DRB + scaled_Opp_Total_Reb +\n",
        "             scaled_Opp_AST + scaled_Opp_STL + scaled_TO_Forced + scaled_Points_Allowed + scaled_Age +\n",
        "             scaled_MOV + scaled_SOS + scaled_SRS + scaled_ORtg + scaled_DRtg + scaled_NRtg + scaled_Pace +\n",
        "             scaled_FTr + scaled_X3PAr + scaled_TS_percent + scaled_eFG_percent + scaled_ORB_percent +\n",
        "             scaled_FT_FGA + scaled_Def_eFG_percent + scaled_Def_TOV_percent + scaled_DRB_percent + scaled_Def_FT_FGA +\n",
        "             win_percentage + Top10_Scorer + Top10_Rebounder + scaled_Seed,\n",
        "            data = train)"
      ],
      "metadata": {
        "id": "8ft5EBanTHz4"
      },
      "execution_count": null,
      "outputs": []
    },
    {
      "cell_type": "code",
      "source": [
        "print(rfModel1)\n",
        "rmse(rfModel1)"
      ],
      "metadata": {
        "colab": {
          "base_uri": "https://localhost:8080/",
          "height": 218
        },
        "id": "iLj8pFIaTukc",
        "outputId": "4290f08c-50c5-4b44-9fc8-aab2b3cc62af"
      },
      "execution_count": null,
      "outputs": [
        {
          "output_type": "stream",
          "name": "stdout",
          "text": [
            "\n",
            "Call:\n",
            " randomForest(formula = Wins ~ scaled_FG + scaled_FGA + scaled_FG_percent +      scaled_X3P + scaled_X3P_percent + scaled_X2P + scaled_X2PA +      scaled_X2P_percent + scaled_FT + scaled_FTA + scaled_FT_percent +      scaled_ORB + scaled_DRB + scaled_TRB + scaled_AST + scaled_STL +      scaled_BLK + scaled_TOV + scaled_PF + scaled_PTS + scaled_Assist_TO +      scaled_Opp_FG + scaled_Opp_FGA + scaled_Opp_FG_percent +      scaled_Opp_3P + scaled_Opp_3PA + scaled_Opp_3P_percent +      scaled_Opp_2P + scaled_Opp_2PA + scaled_Opp_2P_percent +      scaled_Opp_FT + scaled_Opp_FTA + scaled_Opp_FT_percent +      scaled_Off_Reb_Allowed + scaled_Opp_DRB + scaled_Opp_Total_Reb +      scaled_Opp_AST + scaled_Opp_STL + scaled_TO_Forced + scaled_Points_Allowed +      scaled_Age + scaled_MOV + scaled_SOS + scaled_SRS + scaled_ORtg +      scaled_DRtg + scaled_NRtg + scaled_Pace + scaled_FTr + scaled_X3PAr +      scaled_TS_percent + scaled_eFG_percent + scaled_ORB_percent +      scaled_FT_FGA + scaled_Def_eFG_percent + scaled_Def_TOV_percent +      scaled_DRB_percent + scaled_Def_FT_FGA + win_percentage +      Top10_Scorer + Top10_Rebounder + scaled_Seed, data = train) \n",
            "               Type of random forest: regression\n",
            "                     Number of trees: 500\n",
            "No. of variables tried at each split: 20\n",
            "\n",
            "          Mean of squared residuals: 11.19892\n",
            "                    % Var explained: 50.36\n"
          ]
        },
        {
          "output_type": "display_data",
          "data": {
            "text/html": [
              "3.34647935050459"
            ],
            "text/markdown": "3.34647935050459",
            "text/latex": "3.34647935050459",
            "text/plain": [
              "[1] 3.346479"
            ]
          },
          "metadata": {}
        }
      ]
    },
    {
      "cell_type": "code",
      "source": [
        "# Let's keep only the most important predictors\n",
        "importance_vals <- importance(rfModel1)\n",
        "\n",
        "# Get the names of predictors with importance > 100\n",
        "important_predictors <- rownames(importance_vals)[importance_vals[, \"IncNodePurity\"] > 100]\n",
        "important_predictors"
      ],
      "metadata": {
        "colab": {
          "base_uri": "https://localhost:8080/",
          "height": 34
        },
        "id": "z7lESyIHU77l",
        "outputId": "facd8c74-dc6b-489c-ed7e-92f5b38a6aa5"
      },
      "execution_count": null,
      "outputs": [
        {
          "output_type": "display_data",
          "data": {
            "text/html": [
              "<style>\n",
              ".list-inline {list-style: none; margin:0; padding: 0}\n",
              ".list-inline>li {display: inline-block}\n",
              ".list-inline>li:not(:last-child)::after {content: \"\\00b7\"; padding: 0 .5ex}\n",
              "</style>\n",
              "<ol class=list-inline><li>'scaled_Opp_3P_percent'</li><li>'scaled_MOV'</li><li>'scaled_SRS'</li><li>'scaled_NRtg'</li><li>'scaled_TS_percent'</li><li>'scaled_eFG_percent'</li><li>'win_percentage'</li><li>'scaled_Seed'</li></ol>\n"
            ],
            "text/markdown": "1. 'scaled_Opp_3P_percent'\n2. 'scaled_MOV'\n3. 'scaled_SRS'\n4. 'scaled_NRtg'\n5. 'scaled_TS_percent'\n6. 'scaled_eFG_percent'\n7. 'win_percentage'\n8. 'scaled_Seed'\n\n\n",
            "text/latex": "\\begin{enumerate*}\n\\item 'scaled\\_Opp\\_3P\\_percent'\n\\item 'scaled\\_MOV'\n\\item 'scaled\\_SRS'\n\\item 'scaled\\_NRtg'\n\\item 'scaled\\_TS\\_percent'\n\\item 'scaled\\_eFG\\_percent'\n\\item 'win\\_percentage'\n\\item 'scaled\\_Seed'\n\\end{enumerate*}\n",
            "text/plain": [
              "[1] \"scaled_Opp_3P_percent\" \"scaled_MOV\"            \"scaled_SRS\"           \n",
              "[4] \"scaled_NRtg\"           \"scaled_TS_percent\"     \"scaled_eFG_percent\"   \n",
              "[7] \"win_percentage\"        \"scaled_Seed\"          "
            ]
          },
          "metadata": {}
        }
      ]
    },
    {
      "cell_type": "code",
      "source": [
        "rfModel2 <- randomForest(Wins ~ scaled_Opp_3P_percent + scaled_eFG_percent + Seed +\n",
        "                         scaled_MOV + scaled_SRS + scaled_NRtg + win_percentage + scaled_TS_percent,\n",
        "                        data = train)"
      ],
      "metadata": {
        "id": "jtpCKS8kUJ_x"
      },
      "execution_count": null,
      "outputs": []
    },
    {
      "cell_type": "code",
      "source": [
        "print(rfModel2)\n",
        "rmse(rfModel2)"
      ],
      "metadata": {
        "colab": {
          "base_uri": "https://localhost:8080/",
          "height": 218
        },
        "id": "Svq5jGovUReK",
        "outputId": "a544223b-4987-4fc7-e660-4deba427e14d"
      },
      "execution_count": null,
      "outputs": [
        {
          "output_type": "stream",
          "name": "stdout",
          "text": [
            "\n",
            "Call:\n",
            " randomForest(formula = Wins ~ scaled_Opp_3P_percent + scaled_eFG_percent +      Seed + scaled_MOV + scaled_SRS + scaled_NRtg + win_percentage +      scaled_TS_percent, data = train) \n",
            "               Type of random forest: regression\n",
            "                     Number of trees: 500\n",
            "No. of variables tried at each split: 2\n",
            "\n",
            "          Mean of squared residuals: 10.86709\n",
            "                    % Var explained: 51.83\n"
          ]
        },
        {
          "output_type": "display_data",
          "data": {
            "text/html": [
              "3.29652671518233"
            ],
            "text/markdown": "3.29652671518233",
            "text/latex": "3.29652671518233",
            "text/plain": [
              "[1] 3.296527"
            ]
          },
          "metadata": {}
        }
      ]
    },
    {
      "cell_type": "code",
      "source": [
        "rfData <- train |>\n",
        "  mutate(\n",
        "    rfwins_predictions = predict(rfModel2)\n",
        "  )"
      ],
      "metadata": {
        "id": "IZYRD8jd5rYx"
      },
      "execution_count": null,
      "outputs": []
    },
    {
      "cell_type": "code",
      "source": [
        "rfData |>\n",
        "  ggplot(aes(x = Wins, y = rfwins_predictions)) +\n",
        "    geom_point()"
      ],
      "metadata": {
        "colab": {
          "base_uri": "https://localhost:8080/",
          "height": 437
        },
        "id": "hHYyFFbj5-WC",
        "outputId": "c188ae0e-7084-4844-f41a-f7e654b4b7b9"
      },
      "execution_count": null,
      "outputs": [
        {
          "output_type": "display_data",
          "data": {
            "text/plain": [
              "plot without title"
            ],
            "image/png": "[encoded data removed]"
          },
          "metadata": {
            "image/png": {
              "width": 420,
              "height": 420
            }
          }
        }
      ]
    },
    {
      "cell_type": "code",
      "source": [
        "# Test RMSE\n",
        "rf_test_predictions = predict(rfModel2, test)"
      ],
      "metadata": {
        "id": "WyTCzxzrBQIU"
      },
      "execution_count": null,
      "outputs": []
    },
    {
      "cell_type": "code",
      "source": [
        "squared_errors <- (test$Wins - rf_test_predictions)^2\n",
        "\n",
        "# Step 2: Compute Mean Squared Error (MSE)\n",
        "mse <- mean(squared_errors)\n",
        "\n",
        "# Step 3: Take Square Root to get RMSE\n",
        "rmse <- sqrt(mse)\n",
        "\n",
        "# Print RMSE\n",
        "paste('RF RMSE = ', round(rmse,3))"
      ],
      "metadata": {
        "colab": {
          "base_uri": "https://localhost:8080/",
          "height": 34
        },
        "id": "wAPRVT5eBXIa",
        "outputId": "2b50f69f-43f8-413b-e5a5-8e8f035dff8f"
      },
      "execution_count": null,
      "outputs": [
        {
          "output_type": "display_data",
          "data": {
            "text/html": [
              "<span style=white-space:pre-wrap>'RF RMSE =  3.302'</span>"
            ],
            "text/markdown": "<span style=white-space:pre-wrap>'RF RMSE =  3.302'</span>",
            "text/latex": "'RF RMSE =  3.302'",
            "text/plain": [
              "[1] \"RF RMSE =  3.302\""
            ]
          },
          "metadata": {}
        }
      ]
    },
    {
      "cell_type": "code",
      "source": [
        "season2024 <- season2024 |>\n",
        "  mutate(\n",
        "    rf_predictions = predict(rfModel2, season2024)\n",
        "  ) |>\n",
        "  arrange(desc(rf_predictions))\n",
        "\n",
        "\n",
        "season2024[, c(\"Seed\", \"Team\", 'Wins',\"rf_predictions\")]"
      ],
      "metadata": {
        "colab": {
          "base_uri": "https://localhost:8080/",
          "height": 599
        },
        "id": "ToxS5CDxEvCc",
        "outputId": "0c06cbb4-7a12-46f8-f2bf-85dc6dfb6c94"
      },
      "execution_count": null,
      "outputs": [
        {
          "output_type": "display_data",
          "data": {
            "text/html": [
              "<table class=\"dataframe\">\n",
              "<caption>A tibble: 16 × 4</caption>\n",
              "<thead>\n",
              "\t<tr><th scope=col>Seed</th><th scope=col>Team</th><th scope=col>Wins</th><th scope=col>rf_predictions</th></tr>\n",
              "\t<tr><th scope=col>&lt;int&gt;</th><th scope=col>&lt;chr&gt;</th><th scope=col>&lt;int&gt;</th><th scope=col>&lt;dbl&gt;</th></tr>\n",
              "</thead>\n",
              "<tbody>\n",
              "\t<tr><td>1</td><td>Oklahoma City Thunder </td><td> 6</td><td>13.062933</td></tr>\n",
              "\t<tr><td>1</td><td>Boston Celtics        </td><td>16</td><td> 9.318200</td></tr>\n",
              "\t<tr><td>2</td><td>Denver Nuggets        </td><td> 7</td><td> 9.317533</td></tr>\n",
              "\t<tr><td>3</td><td>Minnesota Timberwolves</td><td> 9</td><td> 8.689267</td></tr>\n",
              "\t<tr><td>2</td><td>New York Knicks       </td><td> 7</td><td> 6.881267</td></tr>\n",
              "\t<tr><td>3</td><td>Milwaukee Bucks       </td><td> 2</td><td> 6.584300</td></tr>\n",
              "\t<tr><td>8</td><td>New Orleans Pelicans  </td><td> 0</td><td> 4.237400</td></tr>\n",
              "\t<tr><td>4</td><td>Cleveland Cavaliers   </td><td> 5</td><td> 4.211700</td></tr>\n",
              "\t<tr><td>4</td><td>Los Angeles Clippers  </td><td> 2</td><td> 3.901433</td></tr>\n",
              "\t<tr><td>5</td><td>Orlando Magic         </td><td> 3</td><td> 3.480033</td></tr>\n",
              "\t<tr><td>5</td><td>Dallas Mavericks      </td><td>13</td><td> 3.294633</td></tr>\n",
              "\t<tr><td>6</td><td>Indiana Pacers        </td><td> 8</td><td> 3.007500</td></tr>\n",
              "\t<tr><td>7</td><td>Los Angeles Lakers    </td><td> 1</td><td> 2.553300</td></tr>\n",
              "\t<tr><td>7</td><td>Philadelphia 76ers    </td><td> 2</td><td> 2.444800</td></tr>\n",
              "\t<tr><td>6</td><td>Phoenix Suns          </td><td> 0</td><td> 2.358367</td></tr>\n",
              "\t<tr><td>8</td><td>Miami Heat            </td><td> 1</td><td> 2.294367</td></tr>\n",
              "</tbody>\n",
              "</table>\n"
            ],
            "text/markdown": "\nA tibble: 16 × 4\n\n| Seed &lt;int&gt; | Team &lt;chr&gt; | Wins &lt;int&gt; | rf_predictions &lt;dbl&gt; |\n|---|---|---|---|\n| 1 | Oklahoma City Thunder  |  6 | 13.062933 |\n| 1 | Boston Celtics         | 16 |  9.318200 |\n| 2 | Denver Nuggets         |  7 |  9.317533 |\n| 3 | Minnesota Timberwolves |  9 |  8.689267 |\n| 2 | New York Knicks        |  7 |  6.881267 |\n| 3 | Milwaukee Bucks        |  2 |  6.584300 |\n| 8 | New Orleans Pelicans   |  0 |  4.237400 |\n| 4 | Cleveland Cavaliers    |  5 |  4.211700 |\n| 4 | Los Angeles Clippers   |  2 |  3.901433 |\n| 5 | Orlando Magic          |  3 |  3.480033 |\n| 5 | Dallas Mavericks       | 13 |  3.294633 |\n| 6 | Indiana Pacers         |  8 |  3.007500 |\n| 7 | Los Angeles Lakers     |  1 |  2.553300 |\n| 7 | Philadelphia 76ers     |  2 |  2.444800 |\n| 6 | Phoenix Suns           |  0 |  2.358367 |\n| 8 | Miami Heat             |  1 |  2.294367 |\n\n",
            "text/latex": "A tibble: 16 × 4\n\\begin{tabular}{llll}\n Seed & Team & Wins & rf\\_predictions\\\\\n <int> & <chr> & <int> & <dbl>\\\\\n\\hline\n\t 1 & Oklahoma City Thunder  &  6 & 13.062933\\\\\n\t 1 & Boston Celtics         & 16 &  9.318200\\\\\n\t 2 & Denver Nuggets         &  7 &  9.317533\\\\\n\t 3 & Minnesota Timberwolves &  9 &  8.689267\\\\\n\t 2 & New York Knicks        &  7 &  6.881267\\\\\n\t 3 & Milwaukee Bucks        &  2 &  6.584300\\\\\n\t 8 & New Orleans Pelicans   &  0 &  4.237400\\\\\n\t 4 & Cleveland Cavaliers    &  5 &  4.211700\\\\\n\t 4 & Los Angeles Clippers   &  2 &  3.901433\\\\\n\t 5 & Orlando Magic          &  3 &  3.480033\\\\\n\t 5 & Dallas Mavericks       & 13 &  3.294633\\\\\n\t 6 & Indiana Pacers         &  8 &  3.007500\\\\\n\t 7 & Los Angeles Lakers     &  1 &  2.553300\\\\\n\t 7 & Philadelphia 76ers     &  2 &  2.444800\\\\\n\t 6 & Phoenix Suns           &  0 &  2.358367\\\\\n\t 8 & Miami Heat             &  1 &  2.294367\\\\\n\\end{tabular}\n",
            "text/plain": [
              "   Seed Team                   Wins rf_predictions\n",
              "3  1    Oklahoma City Thunder   6   13.062933     \n",
              "2  1    Boston Celtics         16    9.318200     \n",
              "10 2    Denver Nuggets          7    9.317533     \n",
              "12 3    Minnesota Timberwolves  9    8.689267     \n",
              "13 2    New York Knicks         7    6.881267     \n",
              "4  3    Milwaukee Bucks         2    6.584300     \n",
              "9  8    New Orleans Pelicans    0    4.237400     \n",
              "14 4    Cleveland Cavaliers     5    4.211700     \n",
              "8  4    Los Angeles Clippers    2    3.901433     \n",
              "15 5    Orlando Magic           3    3.480033     \n",
              "6  5    Dallas Mavericks       13    3.294633     \n",
              "1  6    Indiana Pacers          8    3.007500     \n",
              "5  7    Los Angeles Lakers      1    2.553300     \n",
              "11 7    Philadelphia 76ers      2    2.444800     \n",
              "7  6    Phoenix Suns            0    2.358367     \n",
              "16 8    Miami Heat              1    2.294367     "
            ]
          },
          "metadata": {}
        }
      ]
    },
    {
      "cell_type": "code",
      "source": [
        "squared_errors <- (season2024$Wins - season2024$rf_predictions)^2\n",
        "\n",
        "# Step 2: Compute Mean Squared Error (MSE)\n",
        "mse <- mean(squared_errors)\n",
        "\n",
        "# Step 3: Take Square Root to get RMSE\n",
        "rmse <- sqrt(mse)\n",
        "\n",
        "# Print RMSE\n",
        "paste('RF RMSE = ', round(rmse,3))"
      ],
      "metadata": {
        "colab": {
          "base_uri": "https://localhost:8080/",
          "height": 34
        },
        "id": "qUJJF_H2TF0y",
        "outputId": "e9916b2b-bbee-4475-9f7b-9a1bd8ab639d"
      },
      "execution_count": null,
      "outputs": [
        {
          "output_type": "display_data",
          "data": {
            "text/html": [
              "<span style=white-space:pre-wrap>'RF RMSE =  4.126'</span>"
            ],
            "text/markdown": "<span style=white-space:pre-wrap>'RF RMSE =  4.126'</span>",
            "text/latex": "'RF RMSE =  4.126'",
            "text/plain": [
              "[1] \"RF RMSE =  4.126\""
            ]
          },
          "metadata": {}
        }
      ]
    },
    {
      "cell_type": "markdown",
      "source": [
        "### Random Forest without Scaled Variables"
      ],
      "metadata": {
        "id": "QxcLmKYEU860"
      }
    },
    {
      "cell_type": "code",
      "source": [
        "rfWithUnscaled<- randomForest(Wins ~ FG + FGA + FG_percent + X3P +\n",
        "             X3P_percent + X2P + X2PA + X2P_percent + FT +\n",
        "             FTA + FT_percent + ORB + DRB + TRB + AST +\n",
        "             STL + BLK + TOV + PF + PTS + Assist_TO + Opp_FG +\n",
        "             Opp_FGA + Opp_FG_percent + Opp_3P + Opp_3PA + Opp_3P_percent +\n",
        "             Opp_2P + Opp_2PA + Opp_2P_percent + Opp_FT + Opp_FTA +\n",
        "             Opp_FT_percent + Off_Reb_Allowed + Opp_DRB + Opp_Total_Reb +\n",
        "             Opp_AST + Opp_STL + TO_Forced + Points_Allowed + Age +\n",
        "             MOV + SOS + SRS + ORtg + DRtg + NRtg + Pace +\n",
        "             FTr + X3PAr + TS_percent + eFG_percent + ORB_percent +\n",
        "             FT_FGA + Def_eFG_percent + Def_TOV_percent + DRB_percent + Def_FT_FGA +\n",
        "             win_percentage + Top10_Scorer + Top10_Rebounder + Seed,\n",
        "            data = train)"
      ],
      "metadata": {
        "id": "sFi6_6BXV9h9"
      },
      "execution_count": null,
      "outputs": []
    },
    {
      "cell_type": "code",
      "source": [
        "print(rfWithUnscaled)"
      ],
      "metadata": {
        "colab": {
          "base_uri": "https://localhost:8080/"
        },
        "id": "QnNcpLrhWslo",
        "outputId": "7b6b593d-42f1-4902-d63f-f51aad86162b"
      },
      "execution_count": null,
      "outputs": [
        {
          "output_type": "stream",
          "name": "stdout",
          "text": [
            "\n",
            "Call:\n",
            " randomForest(formula = Wins ~ FG + FGA + FG_percent + X3P + X3P_percent +      X2P + X2PA + X2P_percent + FT + FTA + FT_percent + ORB +      DRB + TRB + AST + STL + BLK + TOV + PF + PTS + Assist_TO +      Opp_FG + Opp_FGA + Opp_FG_percent + Opp_3P + Opp_3PA + Opp_3P_percent +      Opp_2P + Opp_2PA + Opp_2P_percent + Opp_FT + Opp_FTA + Opp_FT_percent +      Off_Reb_Allowed + Opp_DRB + Opp_Total_Reb + Opp_AST + Opp_STL +      TO_Forced + Points_Allowed + Age + MOV + SOS + SRS + ORtg +      DRtg + NRtg + Pace + FTr + X3PAr + TS_percent + eFG_percent +      ORB_percent + FT_FGA + Def_eFG_percent + Def_TOV_percent +      DRB_percent + Def_FT_FGA + win_percentage + Top10_Scorer +      Top10_Rebounder + Seed, data = train) \n",
            "               Type of random forest: regression\n",
            "                     Number of trees: 500\n",
            "No. of variables tried at each split: 20\n",
            "\n",
            "          Mean of squared residuals: 10.38138\n",
            "                    % Var explained: 50.66\n"
          ]
        }
      ]
    },
    {
      "cell_type": "code",
      "source": [
        "# Let's keep only the most important predictors\n",
        "importance_vals <- importance(rfWithUnscaled)\n",
        "\n",
        "# Get the names of predictors with importance > 100\n",
        "important_predictors <- rownames(importance_vals)[importance_vals[, \"IncNodePurity\"] > 100]\n",
        "important_predictors"
      ],
      "metadata": {
        "colab": {
          "base_uri": "https://localhost:8080/",
          "height": 34
        },
        "id": "R_IzIGsvhazc",
        "outputId": "fc54da7d-163b-41c8-e9fa-2886152d0546"
      },
      "execution_count": null,
      "outputs": [
        {
          "output_type": "display_data",
          "data": {
            "text/html": [
              "<style>\n",
              ".list-inline {list-style: none; margin:0; padding: 0}\n",
              ".list-inline>li {display: inline-block}\n",
              ".list-inline>li:not(:last-child)::after {content: \"\\00b7\"; padding: 0 .5ex}\n",
              "</style>\n",
              "<ol class=list-inline><li>'Opp_FG_percent'</li><li>'Opp_3P_percent'</li><li>'MOV'</li><li>'SRS'</li><li>'NRtg'</li><li>'win_percentage'</li><li>'Seed'</li></ol>\n"
            ],
            "text/markdown": "1. 'Opp_FG_percent'\n2. 'Opp_3P_percent'\n3. 'MOV'\n4. 'SRS'\n5. 'NRtg'\n6. 'win_percentage'\n7. 'Seed'\n\n\n",
            "text/latex": "\\begin{enumerate*}\n\\item 'Opp\\_FG\\_percent'\n\\item 'Opp\\_3P\\_percent'\n\\item 'MOV'\n\\item 'SRS'\n\\item 'NRtg'\n\\item 'win\\_percentage'\n\\item 'Seed'\n\\end{enumerate*}\n",
            "text/plain": [
              "[1] \"Opp_FG_percent\" \"Opp_3P_percent\" \"MOV\"            \"SRS\"           \n",
              "[5] \"NRtg\"           \"win_percentage\" \"Seed\"          "
            ]
          },
          "metadata": {}
        }
      ]
    },
    {
      "cell_type": "code",
      "source": [
        "rfWithUnscaled2 <- randomForest(Wins ~ Opp_FG_percent + Opp_3P_percent + MOV + SRS +\n",
        "                                  NRtg + win_percentage + Seed,\n",
        "                                  data = train)"
      ],
      "metadata": {
        "id": "j-Ao8l3hhetV"
      },
      "execution_count": null,
      "outputs": []
    },
    {
      "cell_type": "code",
      "source": [
        "print(rfWithUnscaled2)"
      ],
      "metadata": {
        "colab": {
          "base_uri": "https://localhost:8080/"
        },
        "id": "MskfXxFghnUM",
        "outputId": "233127e4-75e7-431c-ce33-d0c6e57956d0"
      },
      "execution_count": null,
      "outputs": [
        {
          "output_type": "stream",
          "name": "stdout",
          "text": [
            "\n",
            "Call:\n",
            " randomForest(formula = Wins ~ Opp_FG_percent + Opp_3P_percent +      MOV + SRS + NRtg + win_percentage + Seed, data = train) \n",
            "               Type of random forest: regression\n",
            "                     Number of trees: 500\n",
            "No. of variables tried at each split: 2\n",
            "\n",
            "          Mean of squared residuals: 10.77229\n",
            "                    % Var explained: 48.81\n"
          ]
        }
      ]
    },
    {
      "cell_type": "code",
      "source": [
        "rmse(rfWithUnscaled2)"
      ],
      "metadata": {
        "colab": {
          "base_uri": "https://localhost:8080/",
          "height": 34
        },
        "id": "7BEoj9bziAj0",
        "outputId": "7a1c50e5-46bb-4889-df0d-f2608e061963"
      },
      "execution_count": null,
      "outputs": [
        {
          "output_type": "display_data",
          "data": {
            "text/html": [
              "3.28211620011637"
            ],
            "text/markdown": "3.28211620011637",
            "text/latex": "3.28211620011637",
            "text/plain": [
              "[1] 3.282116"
            ]
          },
          "metadata": {}
        }
      ]
    },
    {
      "cell_type": "code",
      "source": [
        "season2024 <- season2024 |>\n",
        "  mutate(\n",
        "    Win_Predictions_RF = predict(rfWithUnscaled2, season2024)\n",
        "  ) |>\n",
        "  arrange(desc(Win_Predictions))\n",
        "\n",
        "\n",
        "season2024[, c(\"Seed\", \"Team\", \"Win_Predictions\", \"Win_Predictions_RF\")]"
      ],
      "metadata": {
        "colab": {
          "base_uri": "https://localhost:8080/",
          "height": 599
        },
        "id": "amOo8ZaSiE8M",
        "outputId": "81f35865-f321-4c7f-a100-690a0158134a"
      },
      "execution_count": null,
      "outputs": [
        {
          "output_type": "display_data",
          "data": {
            "text/html": [
              "<table class=\"dataframe\">\n",
              "<caption>A tibble: 16 × 4</caption>\n",
              "<thead>\n",
              "\t<tr><th scope=col>Seed</th><th scope=col>Team</th><th scope=col>Win_Predictions</th><th scope=col>Win_Predictions_RF</th></tr>\n",
              "\t<tr><th scope=col>&lt;int&gt;</th><th scope=col>&lt;chr&gt;</th><th scope=col>&lt;dbl&gt;</th><th scope=col>&lt;dbl&gt;</th></tr>\n",
              "</thead>\n",
              "<tbody>\n",
              "\t<tr><td>1</td><td>Boston Celtics        </td><td>14.477106</td><td>9.331000</td></tr>\n",
              "\t<tr><td>1</td><td>Oklahoma City Thunder </td><td> 9.207931</td><td>8.983967</td></tr>\n",
              "\t<tr><td>2</td><td>Denver Nuggets        </td><td> 8.024654</td><td>8.198467</td></tr>\n",
              "\t<tr><td>8</td><td>New Orleans Pelicans  </td><td> 7.568306</td><td>2.271733</td></tr>\n",
              "\t<tr><td>3</td><td>Milwaukee Bucks       </td><td> 7.290842</td><td>3.659433</td></tr>\n",
              "\t<tr><td>6</td><td>Phoenix Suns          </td><td> 6.374895</td><td>2.130333</td></tr>\n",
              "\t<tr><td>3</td><td>Minnesota Timberwolves</td><td> 6.140372</td><td>9.153567</td></tr>\n",
              "\t<tr><td>4</td><td>Los Angeles Clippers  </td><td> 5.060408</td><td>5.396733</td></tr>\n",
              "\t<tr><td>6</td><td>Indiana Pacers        </td><td> 4.713592</td><td>2.481900</td></tr>\n",
              "\t<tr><td>5</td><td>Dallas Mavericks      </td><td> 4.705169</td><td>3.745667</td></tr>\n",
              "\t<tr><td>8</td><td>Miami Heat            </td><td> 4.065373</td><td>2.247200</td></tr>\n",
              "\t<tr><td>7</td><td>Philadelphia 76ers    </td><td> 3.853977</td><td>2.268967</td></tr>\n",
              "\t<tr><td>2</td><td>New York Knicks       </td><td> 3.715431</td><td>6.075767</td></tr>\n",
              "\t<tr><td>4</td><td>Cleveland Cavaliers   </td><td> 3.196022</td><td>4.837533</td></tr>\n",
              "\t<tr><td>7</td><td>Los Angeles Lakers    </td><td> 2.913844</td><td>2.223033</td></tr>\n",
              "\t<tr><td>5</td><td>Orlando Magic         </td><td> 2.162959</td><td>3.990500</td></tr>\n",
              "</tbody>\n",
              "</table>\n"
            ],
            "text/markdown": "\nA tibble: 16 × 4\n\n| Seed &lt;int&gt; | Team &lt;chr&gt; | Win_Predictions &lt;dbl&gt; | Win_Predictions_RF &lt;dbl&gt; |\n|---|---|---|---|\n| 1 | Boston Celtics         | 14.477106 | 9.331000 |\n| 1 | Oklahoma City Thunder  |  9.207931 | 8.983967 |\n| 2 | Denver Nuggets         |  8.024654 | 8.198467 |\n| 8 | New Orleans Pelicans   |  7.568306 | 2.271733 |\n| 3 | Milwaukee Bucks        |  7.290842 | 3.659433 |\n| 6 | Phoenix Suns           |  6.374895 | 2.130333 |\n| 3 | Minnesota Timberwolves |  6.140372 | 9.153567 |\n| 4 | Los Angeles Clippers   |  5.060408 | 5.396733 |\n| 6 | Indiana Pacers         |  4.713592 | 2.481900 |\n| 5 | Dallas Mavericks       |  4.705169 | 3.745667 |\n| 8 | Miami Heat             |  4.065373 | 2.247200 |\n| 7 | Philadelphia 76ers     |  3.853977 | 2.268967 |\n| 2 | New York Knicks        |  3.715431 | 6.075767 |\n| 4 | Cleveland Cavaliers    |  3.196022 | 4.837533 |\n| 7 | Los Angeles Lakers     |  2.913844 | 2.223033 |\n| 5 | Orlando Magic          |  2.162959 | 3.990500 |\n\n",
            "text/latex": "A tibble: 16 × 4\n\\begin{tabular}{llll}\n Seed & Team & Win\\_Predictions & Win\\_Predictions\\_RF\\\\\n <int> & <chr> & <dbl> & <dbl>\\\\\n\\hline\n\t 1 & Boston Celtics         & 14.477106 & 9.331000\\\\\n\t 1 & Oklahoma City Thunder  &  9.207931 & 8.983967\\\\\n\t 2 & Denver Nuggets         &  8.024654 & 8.198467\\\\\n\t 8 & New Orleans Pelicans   &  7.568306 & 2.271733\\\\\n\t 3 & Milwaukee Bucks        &  7.290842 & 3.659433\\\\\n\t 6 & Phoenix Suns           &  6.374895 & 2.130333\\\\\n\t 3 & Minnesota Timberwolves &  6.140372 & 9.153567\\\\\n\t 4 & Los Angeles Clippers   &  5.060408 & 5.396733\\\\\n\t 6 & Indiana Pacers         &  4.713592 & 2.481900\\\\\n\t 5 & Dallas Mavericks       &  4.705169 & 3.745667\\\\\n\t 8 & Miami Heat             &  4.065373 & 2.247200\\\\\n\t 7 & Philadelphia 76ers     &  3.853977 & 2.268967\\\\\n\t 2 & New York Knicks        &  3.715431 & 6.075767\\\\\n\t 4 & Cleveland Cavaliers    &  3.196022 & 4.837533\\\\\n\t 7 & Los Angeles Lakers     &  2.913844 & 2.223033\\\\\n\t 5 & Orlando Magic          &  2.162959 & 3.990500\\\\\n\\end{tabular}\n",
            "text/plain": [
              "   Seed Team                   Win_Predictions Win_Predictions_RF\n",
              "1  1    Boston Celtics         14.477106       9.331000          \n",
              "2  1    Oklahoma City Thunder   9.207931       8.983967          \n",
              "4  2    Denver Nuggets          8.024654       8.198467          \n",
              "3  8    New Orleans Pelicans    7.568306       2.271733          \n",
              "6  3    Milwaukee Bucks         7.290842       3.659433          \n",
              "7  6    Phoenix Suns            6.374895       2.130333          \n",
              "5  3    Minnesota Timberwolves  6.140372       9.153567          \n",
              "12 4    Los Angeles Clippers    5.060408       5.396733          \n",
              "8  6    Indiana Pacers          4.713592       2.481900          \n",
              "15 5    Dallas Mavericks        4.705169       3.745667          \n",
              "9  8    Miami Heat              4.065373       2.247200          \n",
              "11 7    Philadelphia 76ers      3.853977       2.268967          \n",
              "13 2    New York Knicks         3.715431       6.075767          \n",
              "14 4    Cleveland Cavaliers     3.196022       4.837533          \n",
              "16 7    Los Angeles Lakers      2.913844       2.223033          \n",
              "10 5    Orlando Magic           2.162959       3.990500          "
            ]
          },
          "metadata": {}
        }
      ]
    },
    {
      "cell_type": "markdown",
      "source": [
        "Increased $R^2$ and lower RMSE. Results are fairly similar to the MLR model."
      ],
      "metadata": {
        "id": "pLkBi3YOXPKA"
      }
    },
    {
      "cell_type": "markdown",
      "source": [
        "## Neural Network"
      ],
      "metadata": {
        "id": "Z8_A3lp4rLHe"
      }
    },
    {
      "cell_type": "code",
      "source": [
        "install.packages('nnet')\n",
        "library(nnet)"
      ],
      "metadata": {
        "colab": {
          "base_uri": "https://localhost:8080/"
        },
        "id": "ESDdmjVErN2n",
        "outputId": "b4c72836-9879-4003-abbb-766681e9a4fd"
      },
      "execution_count": null,
      "outputs": [
        {
          "output_type": "stream",
          "name": "stderr",
          "text": [
            "Installing package into ‘/usr/local/lib/R/site-library’\n",
            "(as ‘lib’ is unspecified)\n",
            "\n"
          ]
        }
      ]
    },
    {
      "cell_type": "code",
      "source": [
        "nn_model <- nnet(Wins ~ scaled_Opp_3P_percent + scaled_eFG_percent +\n",
        "                         scaled_MOV + scaled_SRS + scaled_NRtg + win_percentage +\n",
        "                         scaled_Seed + scaled_TS_percent,\n",
        "                        data = train,\n",
        "                        size = 5,\n",
        "                        linout = TRUE,\n",
        "                        maxit = 500,\n",
        "                        decay = 0.01)"
      ],
      "metadata": {
        "id": "XO3MRgrasrEo"
      },
      "execution_count": null,
      "outputs": []
    },
    {
      "cell_type": "code",
      "source": [
        "rmse(nn_model)"
      ],
      "metadata": {
        "colab": {
          "base_uri": "https://localhost:8080/",
          "height": 34
        },
        "id": "g5W9YTU-s79r",
        "outputId": "8aee730b-ef9d-468d-8374-418f7af1f001"
      },
      "execution_count": null,
      "outputs": [
        {
          "output_type": "display_data",
          "data": {
            "text/html": [
              "2.59154682501495"
            ],
            "text/markdown": "2.59154682501495",
            "text/latex": "2.59154682501495",
            "text/plain": [
              "[1] 2.591547"
            ]
          },
          "metadata": {}
        }
      ]
    },
    {
      "cell_type": "code",
      "source": [
        "nnet_train_predictions <- predict(nn_model)"
      ],
      "metadata": {
        "id": "L6PhPg-E7BVI"
      },
      "execution_count": null,
      "outputs": []
    },
    {
      "cell_type": "code",
      "source": [
        "# Calculate R^2\n",
        "ss_res <- sum((train$Wins - nnet_train_predictions)^2)\n",
        "ss_tot <- sum((train$Wins - mean(train$Wins))^2)\n",
        "r_squared <- 1 - (ss_res / ss_tot)\n",
        "r_squared"
      ],
      "metadata": {
        "colab": {
          "base_uri": "https://localhost:8080/",
          "height": 34
        },
        "id": "5rXC9UlA68AI",
        "outputId": "72ba2c04-e42e-4e10-a2b9-1d535b31c169"
      },
      "execution_count": null,
      "outputs": [
        {
          "output_type": "display_data",
          "data": {
            "text/html": [
              "0.702316906634007"
            ],
            "text/markdown": "0.702316906634007",
            "text/latex": "0.702316906634007",
            "text/plain": [
              "[1] 0.7023169"
            ]
          },
          "metadata": {}
        }
      ]
    },
    {
      "cell_type": "code",
      "source": [
        "nn_predictions <- predict(nn_model, test)"
      ],
      "metadata": {
        "id": "fSOC9ywEs_qH"
      },
      "execution_count": null,
      "outputs": []
    },
    {
      "cell_type": "code",
      "source": [
        "sqrt(mean((test$Wins - nn_predictions)^2))"
      ],
      "metadata": {
        "colab": {
          "base_uri": "https://localhost:8080/",
          "height": 34
        },
        "id": "RY6edJtqtIdM",
        "outputId": "a7459ce9-88c7-4a8e-955c-72e3cf1dce70"
      },
      "execution_count": null,
      "outputs": [
        {
          "output_type": "display_data",
          "data": {
            "text/html": [
              "3.56700377768594"
            ],
            "text/markdown": "3.56700377768594",
            "text/latex": "3.56700377768594",
            "text/plain": [
              "[1] 3.567004"
            ]
          },
          "metadata": {}
        }
      ]
    },
    {
      "cell_type": "code",
      "source": [
        "# Using 2024 Season as Test Case with the MLR Model\n",
        "season2024 <- Scaled_Values |>\n",
        "  filter(Season == 2024 & Playoff == 1)\n",
        "\n",
        "season2024 <- season2024 |>\n",
        "  mutate(\n",
        "    nnet_win_Predictions = predict(nn_model, season2024)\n",
        "  ) |>\n",
        "  arrange(desc(nnet_win_Predictions))\n",
        "\n",
        "\n",
        "season2024[, c(\"Seed\", \"Team\", \"nnet_win_Predictions\", 'Wins')]"
      ],
      "metadata": {
        "colab": {
          "base_uri": "https://localhost:8080/",
          "height": 599
        },
        "id": "IpZgaGWbtj_M",
        "outputId": "e973db32-f26d-4628-bded-8cfc25e60f57"
      },
      "execution_count": null,
      "outputs": [
        {
          "output_type": "display_data",
          "data": {
            "text/html": [
              "<table class=\"dataframe\">\n",
              "<caption>A tibble: 16 × 4</caption>\n",
              "<thead>\n",
              "\t<tr><th scope=col>Seed</th><th scope=col>Team</th><th scope=col>nnet_win_Predictions</th><th scope=col>Wins</th></tr>\n",
              "\t<tr><th scope=col>&lt;int&gt;</th><th scope=col>&lt;chr&gt;</th><th scope=col>&lt;dbl[,1]&gt;</th><th scope=col>&lt;int&gt;</th></tr>\n",
              "</thead>\n",
              "<tbody>\n",
              "\t<tr><td>1</td><td>Oklahoma City Thunder </td><td>10.198043</td><td> 6</td></tr>\n",
              "\t<tr><td>1</td><td>Boston Celtics        </td><td> 9.495513</td><td>16</td></tr>\n",
              "\t<tr><td>2</td><td>Denver Nuggets        </td><td> 9.432650</td><td> 7</td></tr>\n",
              "\t<tr><td>3</td><td>Minnesota Timberwolves</td><td> 9.408775</td><td> 9</td></tr>\n",
              "\t<tr><td>3</td><td>Milwaukee Bucks       </td><td> 9.367183</td><td> 2</td></tr>\n",
              "\t<tr><td>2</td><td>New York Knicks       </td><td> 6.930977</td><td> 7</td></tr>\n",
              "\t<tr><td>4</td><td>Los Angeles Clippers  </td><td> 4.059779</td><td> 2</td></tr>\n",
              "\t<tr><td>5</td><td>Orlando Magic         </td><td> 4.051230</td><td> 3</td></tr>\n",
              "\t<tr><td>4</td><td>Cleveland Cavaliers   </td><td> 4.020608</td><td> 5</td></tr>\n",
              "\t<tr><td>7</td><td>Philadelphia 76ers    </td><td> 2.476444</td><td> 2</td></tr>\n",
              "\t<tr><td>5</td><td>Dallas Mavericks      </td><td> 1.588204</td><td>13</td></tr>\n",
              "\t<tr><td>6</td><td>Phoenix Suns          </td><td> 1.584737</td><td> 0</td></tr>\n",
              "\t<tr><td>8</td><td>Miami Heat            </td><td> 1.584685</td><td> 1</td></tr>\n",
              "\t<tr><td>7</td><td>Los Angeles Lakers    </td><td> 1.584636</td><td> 1</td></tr>\n",
              "\t<tr><td>8</td><td>New Orleans Pelicans  </td><td> 1.584621</td><td> 0</td></tr>\n",
              "\t<tr><td>6</td><td>Indiana Pacers        </td><td> 1.584385</td><td> 8</td></tr>\n",
              "</tbody>\n",
              "</table>\n"
            ],
            "text/markdown": "\nA tibble: 16 × 4\n\n| Seed &lt;int&gt; | Team &lt;chr&gt; | nnet_win_Predictions &lt;dbl[,1]&gt; | Wins &lt;int&gt; |\n|---|---|---|---|\n| 1 | Oklahoma City Thunder  | 10.198043 |  6 |\n| 1 | Boston Celtics         |  9.495513 | 16 |\n| 2 | Denver Nuggets         |  9.432650 |  7 |\n| 3 | Minnesota Timberwolves |  9.408775 |  9 |\n| 3 | Milwaukee Bucks        |  9.367183 |  2 |\n| 2 | New York Knicks        |  6.930977 |  7 |\n| 4 | Los Angeles Clippers   |  4.059779 |  2 |\n| 5 | Orlando Magic          |  4.051230 |  3 |\n| 4 | Cleveland Cavaliers    |  4.020608 |  5 |\n| 7 | Philadelphia 76ers     |  2.476444 |  2 |\n| 5 | Dallas Mavericks       |  1.588204 | 13 |\n| 6 | Phoenix Suns           |  1.584737 |  0 |\n| 8 | Miami Heat             |  1.584685 |  1 |\n| 7 | Los Angeles Lakers     |  1.584636 |  1 |\n| 8 | New Orleans Pelicans   |  1.584621 |  0 |\n| 6 | Indiana Pacers         |  1.584385 |  8 |\n\n",
            "text/latex": "A tibble: 16 × 4\n\\begin{tabular}{llll}\n Seed & Team & nnet\\_win\\_Predictions & Wins\\\\\n <int> & <chr> & <dbl{[},1{]}> & <int>\\\\\n\\hline\n\t 1 & Oklahoma City Thunder  & 10.198043 &  6\\\\\n\t 1 & Boston Celtics         &  9.495513 & 16\\\\\n\t 2 & Denver Nuggets         &  9.432650 &  7\\\\\n\t 3 & Minnesota Timberwolves &  9.408775 &  9\\\\\n\t 3 & Milwaukee Bucks        &  9.367183 &  2\\\\\n\t 2 & New York Knicks        &  6.930977 &  7\\\\\n\t 4 & Los Angeles Clippers   &  4.059779 &  2\\\\\n\t 5 & Orlando Magic          &  4.051230 &  3\\\\\n\t 4 & Cleveland Cavaliers    &  4.020608 &  5\\\\\n\t 7 & Philadelphia 76ers     &  2.476444 &  2\\\\\n\t 5 & Dallas Mavericks       &  1.588204 & 13\\\\\n\t 6 & Phoenix Suns           &  1.584737 &  0\\\\\n\t 8 & Miami Heat             &  1.584685 &  1\\\\\n\t 7 & Los Angeles Lakers     &  1.584636 &  1\\\\\n\t 8 & New Orleans Pelicans   &  1.584621 &  0\\\\\n\t 6 & Indiana Pacers         &  1.584385 &  8\\\\\n\\end{tabular}\n",
            "text/plain": [
              "   Seed Team                   nnet_win_Predictions Wins\n",
              "3  1    Oklahoma City Thunder  10.198043             6  \n",
              "2  1    Boston Celtics          9.495513            16  \n",
              "10 2    Denver Nuggets          9.432650             7  \n",
              "12 3    Minnesota Timberwolves  9.408775             9  \n",
              "4  3    Milwaukee Bucks         9.367183             2  \n",
              "13 2    New York Knicks         6.930977             7  \n",
              "8  4    Los Angeles Clippers    4.059779             2  \n",
              "15 5    Orlando Magic           4.051230             3  \n",
              "14 4    Cleveland Cavaliers     4.020608             5  \n",
              "11 7    Philadelphia 76ers      2.476444             2  \n",
              "6  5    Dallas Mavericks        1.588204            13  \n",
              "7  6    Phoenix Suns            1.584737             0  \n",
              "16 8    Miami Heat              1.584685             1  \n",
              "5  7    Los Angeles Lakers      1.584636             1  \n",
              "9  8    New Orleans Pelicans    1.584621             0  \n",
              "1  6    Indiana Pacers          1.584385             8  "
            ]
          },
          "metadata": {}
        }
      ]
    },
    {
      "cell_type": "markdown",
      "source": [
        "In summary, the neural network preforms good from a RMSE and $R^2$ standpoint, but as we observe from the 2024 predictions, the win predictions are very closely tied to the playoff seed."
      ],
      "metadata": {
        "id": "QimRIue8jia5"
      }
    },
    {
      "cell_type": "markdown",
      "source": [
        "## Ensembling"
      ],
      "metadata": {
        "id": "nFdtyNykjLpY"
      }
    },
    {
      "cell_type": "markdown",
      "source": [
        "Each model developed so far has its own strengths and weaknesses. To leverage the advantages of all models, an ensemble approach will be employed. Specifically, stacking will be performed in this notebook, using Multiple Linear Regression (MLR), Random Forest, and Neural Network models as base learners, with another MLR model serving as the meta-learner."
      ],
      "metadata": {
        "id": "xA7ai_4yj5iA"
      }
    },
    {
      "cell_type": "code",
      "source": [
        "lm_with_seed_predictions <- predict(model4)\n",
        "lm_without_seed_predictions <- predict(step_model)\n",
        "rf_predictions <- predict(rfModel2)\n",
        "nn_predictions <- predict(nn_model)\n",
        "\n",
        "train <- train |>\n",
        "  mutate(\n",
        "    lm_seed_predictions = lm_with_seed_predictions,\n",
        "    lm_no_seed_predictions = lm_without_seed_predictions,\n",
        "    rf_predictions = rf_predictions,\n",
        "    nn_predictions = nn_predictions\n",
        "  )"
      ],
      "metadata": {
        "id": "UzWdM-JmdpLd"
      },
      "execution_count": null,
      "outputs": []
    },
    {
      "cell_type": "code",
      "source": [
        "# Create the Meta Learner (Linear Regression)\n",
        "\n",
        "ensemble <- lm(Wins ~ lm_no_seed_predictions + rf_predictions + nn_predictions,\n",
        "                data = train)\n",
        "\n",
        "summary(ensemble)"
      ],
      "metadata": {
        "colab": {
          "base_uri": "https://localhost:8080/",
          "height": 399
        },
        "id": "zvdNuxgAk0v6",
        "outputId": "4bff5161-1380-45fc-9e6a-e474010ba4cd"
      },
      "execution_count": null,
      "outputs": [
        {
          "output_type": "display_data",
          "data": {
            "text/plain": [
              "\n",
              "Call:\n",
              "lm(formula = Wins ~ lm_no_seed_predictions + rf_predictions + \n",
              "    nn_predictions, data = train)\n",
              "\n",
              "Residuals:\n",
              "    Min      1Q  Median      3Q     Max \n",
              "-8.5480 -1.6303 -0.1466  1.4371  7.3825 \n",
              "\n",
              "Coefficients:\n",
              "                       Estimate Std. Error t value Pr(>|t|)    \n",
              "(Intercept)            -0.11002    0.28368  -0.388  0.69841    \n",
              "lm_no_seed_predictions  0.35692    0.08317   4.291  2.4e-05 ***\n",
              "rf_predictions         -0.30996    0.10795  -2.871  0.00438 ** \n",
              "nn_predictions          0.97189    0.08764  11.089  < 2e-16 ***\n",
              "---\n",
              "Signif. codes:  0 ‘***’ 0.001 ‘**’ 0.01 ‘*’ 0.05 ‘.’ 0.1 ‘ ’ 1\n",
              "\n",
              "Residual standard error: 2.6 on 298 degrees of freedom\n",
              "Multiple R-squared:  0.7044,\tAdjusted R-squared:  0.7015 \n",
              "F-statistic: 236.7 on 3 and 298 DF,  p-value: < 2.2e-16\n"
            ]
          },
          "metadata": {}
        }
      ]
    },
    {
      "cell_type": "markdown",
      "source": [
        "All base learners are statistically significant and an $R^2$ of 0.70 was achieved."
      ],
      "metadata": {
        "id": "HQ6TZzzako_e"
      }
    },
    {
      "cell_type": "code",
      "source": [
        "# Training Set RMSE\n",
        "rmse(ensemble)"
      ],
      "metadata": {
        "colab": {
          "base_uri": "https://localhost:8080/",
          "height": 34
        },
        "id": "patmOnaelEfp",
        "outputId": "9db8c6fc-9dd2-4c99-fe2c-2dadf2ef85ca"
      },
      "execution_count": null,
      "outputs": [
        {
          "output_type": "display_data",
          "data": {
            "text/html": [
              "2.58232822731565"
            ],
            "text/markdown": "2.58232822731565",
            "text/latex": "2.58232822731565",
            "text/plain": [
              "[1] 2.582328"
            ]
          },
          "metadata": {}
        }
      ]
    },
    {
      "cell_type": "code",
      "source": [
        "season2024 <- Scaled_Values |>\n",
        "  filter(Season == 2024 & Playoff == 1)"
      ],
      "metadata": {
        "id": "1eIWJNDE01DM"
      },
      "execution_count": null,
      "outputs": []
    },
    {
      "cell_type": "code",
      "source": [
        "# Ensemble Function\n",
        "\n",
        "ensemble_function <- function(dat){\n",
        "  # Calculate predictions for individual models\n",
        "  # Add these predictions to the data set\n",
        "  dat <- dat |>\n",
        "    mutate(\n",
        "      lm_no_seed_predictions = predict(step_model, dat),\n",
        "      rf_predictions = predict(rfModel2, dat),\n",
        "      nn_predictions = predict(nn_model, dat)\n",
        "    )\n",
        "\n",
        "  # Use the predictions to calculate\n",
        "  dat <- dat |>\n",
        "    mutate(\n",
        "      ensemble_predictions = predict(ensemble, dat)\n",
        "    )\n",
        "\n",
        "  return(dat)\n",
        "}"
      ],
      "metadata": {
        "id": "TLIZYcRhupMD"
      },
      "execution_count": null,
      "outputs": []
    },
    {
      "cell_type": "markdown",
      "source": [
        "#### Testing on Test Set"
      ],
      "metadata": {
        "id": "TB1RFwx-5xIN"
      }
    },
    {
      "cell_type": "code",
      "source": [
        "test <- ensemble_function(test)"
      ],
      "metadata": {
        "id": "f02ACZffzayF"
      },
      "execution_count": null,
      "outputs": []
    },
    {
      "cell_type": "code",
      "source": [
        "# RMSE for Test Set\n",
        "sqrt(mean((test$Wins - test$ensemble_predictions)^2))"
      ],
      "metadata": {
        "colab": {
          "base_uri": "https://localhost:8080/"
        },
        "id": "6ey_MF6szeui",
        "outputId": "27380555-ca90-4877-9eed-55c8b0b87184"
      },
      "execution_count": null,
      "outputs": [
        {
          "output_type": "display_data",
          "data": {
            "text/html": [
              "3.55446469409703"
            ],
            "text/markdown": "3.55446469409703",
            "text/latex": "3.55446469409703",
            "text/plain": [
              "[1] 3.554465"
            ]
          },
          "metadata": {}
        }
      ]
    },
    {
      "cell_type": "markdown",
      "source": [
        "RMSE on unseen data is around 3.5 games which is below our goal of 4 games."
      ],
      "metadata": {
        "id": "qX1znmifePQX"
      }
    },
    {
      "cell_type": "markdown",
      "source": [
        "#### Testing on 2024 Season"
      ],
      "metadata": {
        "id": "iKmp4I0956O_"
      }
    },
    {
      "cell_type": "code",
      "source": [
        "season2024 <- ensemble_function(season2024)"
      ],
      "metadata": {
        "id": "NhyLxm0nxHHl"
      },
      "execution_count": null,
      "outputs": []
    },
    {
      "cell_type": "code",
      "source": [
        "season2024[,c('Seed', 'Team', 'Wins', 'lm_no_seed_predictions', 'rf_predictions', 'nn_predictions','ensemble_predictions')] |>\n",
        "  arrange(desc(ensemble_predictions))"
      ],
      "metadata": {
        "colab": {
          "base_uri": "https://localhost:8080/",
          "height": 599
        },
        "id": "ko0jIN8zyfPn",
        "outputId": "72757e56-cc60-4175-87c6-1c2927bd620c"
      },
      "execution_count": null,
      "outputs": [
        {
          "output_type": "display_data",
          "data": {
            "text/html": [
              "<table class=\"dataframe\">\n",
              "<caption>A tibble: 16 × 7</caption>\n",
              "<thead>\n",
              "\t<tr><th scope=col>Seed</th><th scope=col>Team</th><th scope=col>Wins</th><th scope=col>lm_no_seed_predictions</th><th scope=col>rf_predictions</th><th scope=col>nn_predictions</th><th scope=col>ensemble_predictions</th></tr>\n",
              "\t<tr><th scope=col>&lt;int&gt;</th><th scope=col>&lt;chr&gt;</th><th scope=col>&lt;int&gt;</th><th scope=col>&lt;dbl&gt;</th><th scope=col>&lt;dbl&gt;</th><th scope=col>&lt;dbl[,1]&gt;</th><th scope=col>&lt;dbl&gt;</th></tr>\n",
              "</thead>\n",
              "<tbody>\n",
              "\t<tr><td>1</td><td>Boston Celtics        </td><td>16</td><td>14.198570</td><td> 8.636233</td><td>10.890356</td><td>12.8649942</td></tr>\n",
              "\t<tr><td>2</td><td>Denver Nuggets        </td><td> 7</td><td> 8.781067</td><td> 9.187233</td><td>10.874141</td><td>10.7448410</td></tr>\n",
              "\t<tr><td>1</td><td>Oklahoma City Thunder </td><td> 6</td><td> 9.741646</td><td>12.881167</td><td>10.890353</td><td> 9.9584621</td></tr>\n",
              "\t<tr><td>3</td><td>Milwaukee Bucks       </td><td> 2</td><td> 6.761393</td><td> 6.121167</td><td> 9.577488</td><td> 9.7141497</td></tr>\n",
              "\t<tr><td>3</td><td>Minnesota Timberwolves</td><td> 9</td><td> 7.204757</td><td> 8.849833</td><td> 9.730639</td><td> 9.1754544</td></tr>\n",
              "\t<tr><td>5</td><td>Dallas Mavericks      </td><td>13</td><td> 4.416778</td><td> 3.366233</td><td> 7.442695</td><td> 7.6564626</td></tr>\n",
              "\t<tr><td>4</td><td>Los Angeles Clippers  </td><td> 2</td><td> 4.173570</td><td> 4.015900</td><td> 6.500724</td><td> 6.4527951</td></tr>\n",
              "\t<tr><td>6</td><td>Phoenix Suns          </td><td> 0</td><td> 6.597576</td><td> 2.388733</td><td> 4.741802</td><td> 6.1128531</td></tr>\n",
              "\t<tr><td>8</td><td>New Orleans Pelicans  </td><td> 0</td><td> 6.586775</td><td> 4.213467</td><td> 4.743001</td><td> 5.5445638</td></tr>\n",
              "\t<tr><td>6</td><td>Indiana Pacers        </td><td> 8</td><td> 3.739345</td><td> 2.938433</td><td> 3.945450</td><td> 4.1483477</td></tr>\n",
              "\t<tr><td>5</td><td>Orlando Magic         </td><td> 3</td><td> 3.102897</td><td> 3.351900</td><td> 4.231600</td><td> 4.0711343</td></tr>\n",
              "\t<tr><td>4</td><td>Cleveland Cavaliers   </td><td> 5</td><td> 5.126821</td><td> 4.238233</td><td> 2.899963</td><td> 3.2245762</td></tr>\n",
              "\t<tr><td>7</td><td>Philadelphia 76ers    </td><td> 2</td><td> 3.507961</td><td> 2.528133</td><td> 1.932030</td><td> 2.2361222</td></tr>\n",
              "\t<tr><td>8</td><td>Miami Heat            </td><td> 1</td><td> 4.580988</td><td> 2.347267</td><td> 1.284732</td><td> 2.0460658</td></tr>\n",
              "\t<tr><td>7</td><td>Los Angeles Lakers    </td><td> 1</td><td> 4.263276</td><td> 2.503200</td><td> 1.284703</td><td> 1.8843066</td></tr>\n",
              "\t<tr><td>2</td><td>New York Knicks       </td><td> 7</td><td> 4.361577</td><td> 6.723633</td><td> 1.393359</td><td> 0.7168146</td></tr>\n",
              "</tbody>\n",
              "</table>\n"
            ],
            "text/markdown": "\nA tibble: 16 × 7\n\n| Seed &lt;int&gt; | Team &lt;chr&gt; | Wins &lt;int&gt; | lm_no_seed_predictions &lt;dbl&gt; | rf_predictions &lt;dbl&gt; | nn_predictions &lt;dbl[,1]&gt; | ensemble_predictions &lt;dbl&gt; |\n|---|---|---|---|---|---|---|\n| 1 | Boston Celtics         | 16 | 14.198570 |  8.636233 | 10.890356 | 12.8649942 |\n| 2 | Denver Nuggets         |  7 |  8.781067 |  9.187233 | 10.874141 | 10.7448410 |\n| 1 | Oklahoma City Thunder  |  6 |  9.741646 | 12.881167 | 10.890353 |  9.9584621 |\n| 3 | Milwaukee Bucks        |  2 |  6.761393 |  6.121167 |  9.577488 |  9.7141497 |\n| 3 | Minnesota Timberwolves |  9 |  7.204757 |  8.849833 |  9.730639 |  9.1754544 |\n| 5 | Dallas Mavericks       | 13 |  4.416778 |  3.366233 |  7.442695 |  7.6564626 |\n| 4 | Los Angeles Clippers   |  2 |  4.173570 |  4.015900 |  6.500724 |  6.4527951 |\n| 6 | Phoenix Suns           |  0 |  6.597576 |  2.388733 |  4.741802 |  6.1128531 |\n| 8 | New Orleans Pelicans   |  0 |  6.586775 |  4.213467 |  4.743001 |  5.5445638 |\n| 6 | Indiana Pacers         |  8 |  3.739345 |  2.938433 |  3.945450 |  4.1483477 |\n| 5 | Orlando Magic          |  3 |  3.102897 |  3.351900 |  4.231600 |  4.0711343 |\n| 4 | Cleveland Cavaliers    |  5 |  5.126821 |  4.238233 |  2.899963 |  3.2245762 |\n| 7 | Philadelphia 76ers     |  2 |  3.507961 |  2.528133 |  1.932030 |  2.2361222 |\n| 8 | Miami Heat             |  1 |  4.580988 |  2.347267 |  1.284732 |  2.0460658 |\n| 7 | Los Angeles Lakers     |  1 |  4.263276 |  2.503200 |  1.284703 |  1.8843066 |\n| 2 | New York Knicks        |  7 |  4.361577 |  6.723633 |  1.393359 |  0.7168146 |\n\n",
            "text/latex": "A tibble: 16 × 7\n\\begin{tabular}{lllllll}\n Seed & Team & Wins & lm\\_no\\_seed\\_predictions & rf\\_predictions & nn\\_predictions & ensemble\\_predictions\\\\\n <int> & <chr> & <int> & <dbl> & <dbl> & <dbl{[},1{]}> & <dbl>\\\\\n\\hline\n\t 1 & Boston Celtics         & 16 & 14.198570 &  8.636233 & 10.890356 & 12.8649942\\\\\n\t 2 & Denver Nuggets         &  7 &  8.781067 &  9.187233 & 10.874141 & 10.7448410\\\\\n\t 1 & Oklahoma City Thunder  &  6 &  9.741646 & 12.881167 & 10.890353 &  9.9584621\\\\\n\t 3 & Milwaukee Bucks        &  2 &  6.761393 &  6.121167 &  9.577488 &  9.7141497\\\\\n\t 3 & Minnesota Timberwolves &  9 &  7.204757 &  8.849833 &  9.730639 &  9.1754544\\\\\n\t 5 & Dallas Mavericks       & 13 &  4.416778 &  3.366233 &  7.442695 &  7.6564626\\\\\n\t 4 & Los Angeles Clippers   &  2 &  4.173570 &  4.015900 &  6.500724 &  6.4527951\\\\\n\t 6 & Phoenix Suns           &  0 &  6.597576 &  2.388733 &  4.741802 &  6.1128531\\\\\n\t 8 & New Orleans Pelicans   &  0 &  6.586775 &  4.213467 &  4.743001 &  5.5445638\\\\\n\t 6 & Indiana Pacers         &  8 &  3.739345 &  2.938433 &  3.945450 &  4.1483477\\\\\n\t 5 & Orlando Magic          &  3 &  3.102897 &  3.351900 &  4.231600 &  4.0711343\\\\\n\t 4 & Cleveland Cavaliers    &  5 &  5.126821 &  4.238233 &  2.899963 &  3.2245762\\\\\n\t 7 & Philadelphia 76ers     &  2 &  3.507961 &  2.528133 &  1.932030 &  2.2361222\\\\\n\t 8 & Miami Heat             &  1 &  4.580988 &  2.347267 &  1.284732 &  2.0460658\\\\\n\t 7 & Los Angeles Lakers     &  1 &  4.263276 &  2.503200 &  1.284703 &  1.8843066\\\\\n\t 2 & New York Knicks        &  7 &  4.361577 &  6.723633 &  1.393359 &  0.7168146\\\\\n\\end{tabular}\n",
            "text/plain": [
              "   Seed Team                   Wins lm_no_seed_predictions rf_predictions\n",
              "2  1    Boston Celtics         16   14.198570               8.636233     \n",
              "10 2    Denver Nuggets          7    8.781067               9.187233     \n",
              "3  1    Oklahoma City Thunder   6    9.741646              12.881167     \n",
              "4  3    Milwaukee Bucks         2    6.761393               6.121167     \n",
              "12 3    Minnesota Timberwolves  9    7.204757               8.849833     \n",
              "6  5    Dallas Mavericks       13    4.416778               3.366233     \n",
              "8  4    Los Angeles Clippers    2    4.173570               4.015900     \n",
              "7  6    Phoenix Suns            0    6.597576               2.388733     \n",
              "9  8    New Orleans Pelicans    0    6.586775               4.213467     \n",
              "1  6    Indiana Pacers          8    3.739345               2.938433     \n",
              "15 5    Orlando Magic           3    3.102897               3.351900     \n",
              "14 4    Cleveland Cavaliers     5    5.126821               4.238233     \n",
              "11 7    Philadelphia 76ers      2    3.507961               2.528133     \n",
              "16 8    Miami Heat              1    4.580988               2.347267     \n",
              "5  7    Los Angeles Lakers      1    4.263276               2.503200     \n",
              "13 2    New York Knicks         7    4.361577               6.723633     \n",
              "   nn_predictions ensemble_predictions\n",
              "2  10.890356      12.8649942          \n",
              "10 10.874141      10.7448410          \n",
              "3  10.890353       9.9584621          \n",
              "4   9.577488       9.7141497          \n",
              "12  9.730639       9.1754544          \n",
              "6   7.442695       7.6564626          \n",
              "8   6.500724       6.4527951          \n",
              "7   4.741802       6.1128531          \n",
              "9   4.743001       5.5445638          \n",
              "1   3.945450       4.1483477          \n",
              "15  4.231600       4.0711343          \n",
              "14  2.899963       3.2245762          \n",
              "11  1.932030       2.2361222          \n",
              "16  1.284732       2.0460658          \n",
              "5   1.284703       1.8843066          \n",
              "13  1.393359       0.7168146          "
            ]
          },
          "metadata": {}
        }
      ]
    },
    {
      "cell_type": "code",
      "source": [
        "# RMSE for 2024 Playoffs\n",
        "sqrt(mean((season2024$Wins - season2024$ensemble_predictions)^2))"
      ],
      "metadata": {
        "colab": {
          "base_uri": "https://localhost:8080/",
          "height": 34
        },
        "id": "AhXuEIAAzMSx",
        "outputId": "2832bb03-1c28-4a38-bc07-79b8ae80a881"
      },
      "execution_count": null,
      "outputs": [
        {
          "output_type": "display_data",
          "data": {
            "text/html": [
              "4.15403006499286"
            ],
            "text/markdown": "4.15403006499286",
            "text/latex": "4.15403006499286",
            "text/plain": [
              "[1] 4.15403"
            ]
          },
          "metadata": {}
        }
      ]
    },
    {
      "cell_type": "markdown",
      "source": [
        "The ensemble model correctly predicts the Boston Celtics as the most likely 2024 NBA Champions. Interestingly, its predictions closely align with the betting odds published by this [sports betting organization](https://therookiewire.usatoday.com/story/sports/nba/rookie/2024/04/20/nba-playoffs-2024-the-complete-championship-odds-for-every-team/77595762007/).\n",
        "\n",
        "**Betting Odds (Top 8 Teams)**:\n",
        "\n",
        "1. Celtics +160\n",
        "\n",
        "2. Nuggets +300\n",
        "\n",
        "3. Clippers +1300\n",
        "\n",
        "4. Bucks +1400\n",
        "\n",
        "5. 76ers +1400\n",
        "\n",
        "6. Mavericks +1600\n",
        "\n",
        "7. Thunder +1600\n",
        "\n",
        "8. Suns +1800\n",
        "\n",
        "**Ensemble Model Predictions (Expected Playoff Wins)**:\n",
        "\n",
        "1. Celtics – 12.8\n",
        "\n",
        "2. Nuggets – 10.7\n",
        "\n",
        "3. Thunder – 10.0\n",
        "\n",
        "4. Bucks – 9.7\n",
        "\n",
        "5. Timberwolves – 9.2\n",
        "\n",
        "6. Mavericks – 7.7\n",
        "\n",
        "7. Clippers – 6.5\n",
        "\n",
        "8. Suns – 6.1\n",
        "\n",
        "<br>\n",
        "As shown, the model's predictions closely mirror the betting market. Both ranked the Celtics as title favorites, followed by the Nuggets. Of the top eight teams by betting odds, the ensemble model included seven, only substituting the 76ers with the Timberwolves. This substitution appears justified in hindsight, as the Timberwolves reached the Western Conference Finals."
      ],
      "metadata": {
        "id": "39KOKpFVeflZ"
      }
    },
    {
      "cell_type": "markdown",
      "source": [
        "#### Testing on 2021 Season"
      ],
      "metadata": {
        "id": "N_Hejvnb4_2F"
      }
    },
    {
      "cell_type": "markdown",
      "source": [
        "The 2021 NBA Playoffs was what sparked my interest in this project, so I wanted to see how my model fared this season. You can compare my models results to these [betting odds](https://www.sportsbettingdime.com/news/nba/updated-2021-championship-odds-all-16-playoff-teams/)."
      ],
      "metadata": {
        "id": "asnyntoBl9i-"
      }
    },
    {
      "cell_type": "code",
      "source": [
        "season2021 <- Scaled_Values |>\n",
        "  filter(Season == 2021 & Playoff == 1)"
      ],
      "metadata": {
        "id": "T8d8n35l4wOS"
      },
      "execution_count": null,
      "outputs": []
    },
    {
      "cell_type": "code",
      "source": [
        "season2021 <- ensemble_function(season2021)"
      ],
      "metadata": {
        "id": "0Lfu1wwF44hr"
      },
      "execution_count": null,
      "outputs": []
    },
    {
      "cell_type": "code",
      "source": [
        "season2021[,c('Seed', 'Team', 'Wins', 'lm_no_seed_predictions', 'rf_predictions', 'nn_predictions','ensemble_predictions')] |>\n",
        "  arrange(desc(ensemble_predictions))"
      ],
      "metadata": {
        "colab": {
          "base_uri": "https://localhost:8080/",
          "height": 599
        },
        "id": "vP_FndXZ4-uG",
        "outputId": "e6b39d32-a5e6-415b-a46b-fdc94e816c15"
      },
      "execution_count": null,
      "outputs": [
        {
          "output_type": "display_data",
          "data": {
            "text/html": [
              "<table class=\"dataframe\">\n",
              "<caption>A tibble: 16 × 7</caption>\n",
              "<thead>\n",
              "\t<tr><th scope=col>Seed</th><th scope=col>Team</th><th scope=col>Wins</th><th scope=col>lm_no_seed_predictions</th><th scope=col>rf_predictions</th><th scope=col>nn_predictions</th><th scope=col>ensemble_predictions</th></tr>\n",
              "\t<tr><th scope=col>&lt;int&gt;</th><th scope=col>&lt;chr&gt;</th><th scope=col>&lt;int&gt;</th><th scope=col>&lt;dbl&gt;</th><th scope=col>&lt;dbl&gt;</th><th scope=col>&lt;dbl[,1]&gt;</th><th scope=col>&lt;dbl&gt;</th></tr>\n",
              "</thead>\n",
              "<tbody>\n",
              "\t<tr><td>2</td><td>Brooklyn Nets         </td><td> 7</td><td>11.18937116</td><td> 8.620167</td><td>10.890296</td><td>11.7958792</td></tr>\n",
              "\t<tr><td>1</td><td>Utah Jazz             </td><td> 6</td><td> 8.94255800</td><td> 7.431600</td><td>10.890356</td><td>11.3624208</td></tr>\n",
              "\t<tr><td>1</td><td>Philadelphia 76ers    </td><td> 7</td><td> 6.72236013</td><td> 8.151200</td><td>10.876486</td><td>10.3334631</td></tr>\n",
              "\t<tr><td>3</td><td>Denver Nuggets        </td><td> 4</td><td> 7.51333922</td><td> 4.688400</td><td> 9.043489</td><td> 9.9076500</td></tr>\n",
              "\t<tr><td>4</td><td>Los Angeles Clippers  </td><td>10</td><td> 7.60644849</td><td> 7.707233</td><td> 9.854751</td><td> 9.7936113</td></tr>\n",
              "\t<tr><td>2</td><td>Phoenix Suns          </td><td>14</td><td> 8.74624955</td><td>13.795767</td><td>10.890303</td><td> 9.3196465</td></tr>\n",
              "\t<tr><td>3</td><td>Milwaukee Bucks       </td><td>16</td><td> 9.44626106</td><td>12.378167</td><td> 8.825294</td><td> 8.0019406</td></tr>\n",
              "\t<tr><td>5</td><td>Atlanta Hawks         </td><td>10</td><td> 4.99568054</td><td> 6.664067</td><td> 7.004506</td><td> 6.4150069</td></tr>\n",
              "\t<tr><td>4</td><td>New York Knicks       </td><td> 1</td><td> 3.96482278</td><td> 3.993600</td><td> 4.800540</td><td> 4.7328132</td></tr>\n",
              "\t<tr><td>5</td><td>Dallas Mavericks      </td><td> 3</td><td> 3.38883512</td><td> 3.074667</td><td> 2.967285</td><td> 3.0303503</td></tr>\n",
              "\t<tr><td>6</td><td>Portland Trail Blazers</td><td> 2</td><td> 5.21799844</td><td> 2.631433</td><td> 1.293823</td><td> 2.1941804</td></tr>\n",
              "\t<tr><td>7</td><td>Los Angeles Lakers    </td><td> 2</td><td> 3.80978665</td><td> 2.077633</td><td> 1.268586</td><td> 1.8386941</td></tr>\n",
              "\t<tr><td>6</td><td>Miami Heat            </td><td> 0</td><td> 1.97358654</td><td> 1.367000</td><td> 1.286116</td><td> 1.4206283</td></tr>\n",
              "\t<tr><td>8</td><td>Memphis Grizzlies     </td><td> 1</td><td> 1.49051566</td><td> 1.107833</td><td> 1.284703</td><td> 1.3271707</td></tr>\n",
              "\t<tr><td>7</td><td>Boston Celtics        </td><td> 1</td><td> 0.54856667</td><td> 1.228467</td><td> 1.284610</td><td> 0.9534899</td></tr>\n",
              "\t<tr><td>8</td><td>Washington Wizards    </td><td> 1</td><td> 0.00631994</td><td> 1.057233</td><td> 1.284703</td><td> 0.8131186</td></tr>\n",
              "</tbody>\n",
              "</table>\n"
            ],
            "text/markdown": "\nA tibble: 16 × 7\n\n| Seed &lt;int&gt; | Team &lt;chr&gt; | Wins &lt;int&gt; | lm_no_seed_predictions &lt;dbl&gt; | rf_predictions &lt;dbl&gt; | nn_predictions &lt;dbl[,1]&gt; | ensemble_predictions &lt;dbl&gt; |\n|---|---|---|---|---|---|---|\n| 2 | Brooklyn Nets          |  7 | 11.18937116 |  8.620167 | 10.890296 | 11.7958792 |\n| 1 | Utah Jazz              |  6 |  8.94255800 |  7.431600 | 10.890356 | 11.3624208 |\n| 1 | Philadelphia 76ers     |  7 |  6.72236013 |  8.151200 | 10.876486 | 10.3334631 |\n| 3 | Denver Nuggets         |  4 |  7.51333922 |  4.688400 |  9.043489 |  9.9076500 |\n| 4 | Los Angeles Clippers   | 10 |  7.60644849 |  7.707233 |  9.854751 |  9.7936113 |\n| 2 | Phoenix Suns           | 14 |  8.74624955 | 13.795767 | 10.890303 |  9.3196465 |\n| 3 | Milwaukee Bucks        | 16 |  9.44626106 | 12.378167 |  8.825294 |  8.0019406 |\n| 5 | Atlanta Hawks          | 10 |  4.99568054 |  6.664067 |  7.004506 |  6.4150069 |\n| 4 | New York Knicks        |  1 |  3.96482278 |  3.993600 |  4.800540 |  4.7328132 |\n| 5 | Dallas Mavericks       |  3 |  3.38883512 |  3.074667 |  2.967285 |  3.0303503 |\n| 6 | Portland Trail Blazers |  2 |  5.21799844 |  2.631433 |  1.293823 |  2.1941804 |\n| 7 | Los Angeles Lakers     |  2 |  3.80978665 |  2.077633 |  1.268586 |  1.8386941 |\n| 6 | Miami Heat             |  0 |  1.97358654 |  1.367000 |  1.286116 |  1.4206283 |\n| 8 | Memphis Grizzlies      |  1 |  1.49051566 |  1.107833 |  1.284703 |  1.3271707 |\n| 7 | Boston Celtics         |  1 |  0.54856667 |  1.228467 |  1.284610 |  0.9534899 |\n| 8 | Washington Wizards     |  1 |  0.00631994 |  1.057233 |  1.284703 |  0.8131186 |\n\n",
            "text/latex": "A tibble: 16 × 7\n\\begin{tabular}{lllllll}\n Seed & Team & Wins & lm\\_no\\_seed\\_predictions & rf\\_predictions & nn\\_predictions & ensemble\\_predictions\\\\\n <int> & <chr> & <int> & <dbl> & <dbl> & <dbl{[},1{]}> & <dbl>\\\\\n\\hline\n\t 2 & Brooklyn Nets          &  7 & 11.18937116 &  8.620167 & 10.890296 & 11.7958792\\\\\n\t 1 & Utah Jazz              &  6 &  8.94255800 &  7.431600 & 10.890356 & 11.3624208\\\\\n\t 1 & Philadelphia 76ers     &  7 &  6.72236013 &  8.151200 & 10.876486 & 10.3334631\\\\\n\t 3 & Denver Nuggets         &  4 &  7.51333922 &  4.688400 &  9.043489 &  9.9076500\\\\\n\t 4 & Los Angeles Clippers   & 10 &  7.60644849 &  7.707233 &  9.854751 &  9.7936113\\\\\n\t 2 & Phoenix Suns           & 14 &  8.74624955 & 13.795767 & 10.890303 &  9.3196465\\\\\n\t 3 & Milwaukee Bucks        & 16 &  9.44626106 & 12.378167 &  8.825294 &  8.0019406\\\\\n\t 5 & Atlanta Hawks          & 10 &  4.99568054 &  6.664067 &  7.004506 &  6.4150069\\\\\n\t 4 & New York Knicks        &  1 &  3.96482278 &  3.993600 &  4.800540 &  4.7328132\\\\\n\t 5 & Dallas Mavericks       &  3 &  3.38883512 &  3.074667 &  2.967285 &  3.0303503\\\\\n\t 6 & Portland Trail Blazers &  2 &  5.21799844 &  2.631433 &  1.293823 &  2.1941804\\\\\n\t 7 & Los Angeles Lakers     &  2 &  3.80978665 &  2.077633 &  1.268586 &  1.8386941\\\\\n\t 6 & Miami Heat             &  0 &  1.97358654 &  1.367000 &  1.286116 &  1.4206283\\\\\n\t 8 & Memphis Grizzlies      &  1 &  1.49051566 &  1.107833 &  1.284703 &  1.3271707\\\\\n\t 7 & Boston Celtics         &  1 &  0.54856667 &  1.228467 &  1.284610 &  0.9534899\\\\\n\t 8 & Washington Wizards     &  1 &  0.00631994 &  1.057233 &  1.284703 &  0.8131186\\\\\n\\end{tabular}\n",
            "text/plain": [
              "   Seed Team                   Wins lm_no_seed_predictions rf_predictions\n",
              "2  2    Brooklyn Nets           7   11.18937116             8.620167     \n",
              "4  1    Utah Jazz               6    8.94255800             7.431600     \n",
              "10 1    Philadelphia 76ers      7    6.72236013             8.151200     \n",
              "7  3    Denver Nuggets          4    7.51333922             4.688400     \n",
              "8  4    Los Angeles Clippers   10    7.60644849             7.707233     \n",
              "6  2    Phoenix Suns           14    8.74624955            13.795767     \n",
              "1  3    Milwaukee Bucks        16    9.44626106            12.378167     \n",
              "9  5    Atlanta Hawks          10    4.99568054             6.664067     \n",
              "16 4    New York Knicks         1    3.96482278             3.993600     \n",
              "13 5    Dallas Mavericks        3    3.38883512             3.074667     \n",
              "5  6    Portland Trail Blazers  2    5.21799844             2.631433     \n",
              "14 7    Los Angeles Lakers      2    3.80978665             2.077633     \n",
              "15 6    Miami Heat              0    1.97358654             1.367000     \n",
              "11 8    Memphis Grizzlies       1    1.49051566             1.107833     \n",
              "12 7    Boston Celtics          1    0.54856667             1.228467     \n",
              "3  8    Washington Wizards      1    0.00631994             1.057233     \n",
              "   nn_predictions ensemble_predictions\n",
              "2  10.890296      11.7958792          \n",
              "4  10.890356      11.3624208          \n",
              "10 10.876486      10.3334631          \n",
              "7   9.043489       9.9076500          \n",
              "8   9.854751       9.7936113          \n",
              "6  10.890303       9.3196465          \n",
              "1   8.825294       8.0019406          \n",
              "9   7.004506       6.4150069          \n",
              "16  4.800540       4.7328132          \n",
              "13  2.967285       3.0303503          \n",
              "5   1.293823       2.1941804          \n",
              "14  1.268586       1.8386941          \n",
              "15  1.286116       1.4206283          \n",
              "11  1.284703       1.3271707          \n",
              "12  1.284610       0.9534899          \n",
              "3   1.284703       0.8131186          "
            ]
          },
          "metadata": {}
        }
      ]
    },
    {
      "cell_type": "code",
      "source": [
        "# RMSE for 2021 Playoffs\n",
        "sqrt(mean((season2021$Wins - season2021$ensemble_predictions)^2))"
      ],
      "metadata": {
        "colab": {
          "base_uri": "https://localhost:8080/",
          "height": 34
        },
        "id": "j4fID-_g5qgW",
        "outputId": "dba13686-e9a7-4d81-b029-f822f7e45726"
      },
      "execution_count": null,
      "outputs": [
        {
          "output_type": "display_data",
          "data": {
            "text/html": [
              "3.64604759391158"
            ],
            "text/markdown": "3.64604759391158",
            "text/latex": "3.64604759391158",
            "text/plain": [
              "[1] 3.646048"
            ]
          },
          "metadata": {}
        }
      ]
    },
    {
      "cell_type": "markdown",
      "source": [
        "## Summary\n",
        "\n",
        "This project explored the use of regular season performance metrics to predict postseason success in the NBA. Several models were developed and evaluated for this purpose, culminating in a stacked ensemble model that combines the strengths of Multiple Linear Regression, Random Forest, and Neural Network approaches. The final ensemble model achieved strong performance in terms of both RMSE and R².\n",
        "\n",
        "However, it’s important to recognize that basketball is inherently unpredictable. No machine learning model can fully capture the complexity and human element of the game. After all, the uncertainty is part of what makes sports so compelling.\n",
        "\n",
        "That said, this model has practical value. An NBA front office could use a tool like this to assess a team's potential for a deep playoff run, helping inform decisions at the trade deadline or during the offseason. Similarly, sports betting analysts might leverage the model’s outputs to validate or challenge existing odds. While no model will ever be flawless, this project demonstrates that data-driven analysis and machine learning can provide meaningful insights into playoff outcomes; insights which can inform smarter decisions both on and off the court.\n"
      ],
      "metadata": {
        "id": "ISkm8GDuk_EH"
      }
    }
  ]
}